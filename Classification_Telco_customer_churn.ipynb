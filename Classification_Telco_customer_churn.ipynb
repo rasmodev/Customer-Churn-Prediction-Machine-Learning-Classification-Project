{
 "cells": [
  {
   "cell_type": "markdown",
   "metadata": {},
   "source": [
    "# Project Title: \n",
    "Telecommunications Customer Churn Prediction Analysis"
   ]
  },
  {
   "cell_type": "markdown",
   "metadata": {},
   "source": [
    "# Business Understanding"
   ]
  },
  {
   "cell_type": "markdown",
   "metadata": {},
   "source": [
    "## 1. Introduction\n",
    "This project aims to assist a telecom company in understanding their data and predicting customer churn. The company has provided access to three different datasets: the first dataset with 3000 records stored in a remote Microsoft SQL Server database, the second dataset with 2000 records stored on OneDrive, and the third dataset hosted on a GitHub repository.\n",
    "\n",
    "### 1.1. Objectives\n",
    "Understand the data: Our first objective is to provide insights into the telecom company's data, including customer demographics, services availed, and payment details. This understanding will enable the company to make informed business decisions.\n",
    "\n",
    "Find the lifetime value of each customer: By analyzing the data, we aim to identify factors that influence the rate at which customers churn. Understanding customer behavior and identifying key predictors will help the telecom company estimate the lifetime value of each customer.\n",
    "\n",
    "Predict customer churn: The primary objective is to develop a predictive model that accurately determines whether a customer is likely to churn or not. We will employ machine learning algorithms such as logistic regression, decision trees, support vector machines, random forest, etc., to build a model that effectively predicts customer churn.\n",
    "\n",
    "### 1.2. Methodology\n",
    "To achieve our objectives, we will follow the CRISP-DM framework, which consists of the following steps:\n",
    "\n",
    "Data exploration: We will thoroughly explore the datasets to gain insights into the available variables, their distributions, and relationships. This step will provide us with an initial understanding of the data and help identify any data quality issues.\n",
    "\n",
    "Missing value computations: We will identify missing values in the datasets and decide on an appropriate strategy for handling them. This may involve imputing missing values or removing data points with missing values.\n",
    "\n",
    "Feature engineering: We will perform feature engineering to transform and create new variables that can potentially improve the predictive power of our models. This step may include encoding categorical variables, scaling numerical variables, or creating interaction terms.\n",
    "\n",
    "Model development: We will utilize various machine learning algorithms such as logistic regression, decision trees, support vector machines, random forest, etc., to develop predictive models for customer churn. We will train the models on a subset of the data and evaluate their performance using appropriate metrics.\n",
    "\n",
    "Model evaluation and interpretation: We will evaluate the trained models using evaluation metrics such as accuracy, precision, recall, and F1-score. Additionally, we will interpret the models to understand the factors driving customer churn and their relative importance.\n",
    "\n",
    "Model optimization and hyperparameter tuning: We will fine-tune the models by optimizing their hyperparameters to improve their performance. This step may involve techniques like grid search or random search to find the optimal combination of hyperparameters.\n",
    "\n",
    "By following this methodology, we aim to provide valuable insights to the telecom company and develop a reliable predictive model for customer churn."
   ]
  },
  {
   "cell_type": "markdown",
   "metadata": {},
   "source": [
    "# Load Datasets"
   ]
  },
  {
   "cell_type": "markdown",
   "metadata": {},
   "source": [
    "## Installations"
   ]
  },
  {
   "cell_type": "code",
   "execution_count": 1,
   "metadata": {},
   "outputs": [],
   "source": [
    "# %pip install pyodbc\n",
    "# %pip install openpyxl"
   ]
  },
  {
   "cell_type": "markdown",
   "metadata": {},
   "source": [
    "## Load first dataset from SQL database"
   ]
  },
  {
   "cell_type": "code",
   "execution_count": 2,
   "metadata": {},
   "outputs": [],
   "source": [
    "# Import necessary libraries\n",
    "import pyodbc\n",
    "import numpy as np\n",
    "import pandas as pd\n",
    "import math\n",
    "import matplotlib.pyplot as plt\n",
    "import seaborn as sns\n",
    "import warnings\n",
    "warnings.filterwarnings(\"ignore\")"
   ]
  },
  {
   "cell_type": "code",
   "execution_count": 3,
   "metadata": {},
   "outputs": [],
   "source": [
    "# Establish a connection\n",
    "server = 'dap-projects-database.database.windows.net'\n",
    "database = 'dapDB'\n",
    "username = 'dataAnalyst_LP2'\n",
    "password = 'A3g@3kR$2y'\n",
    "\n",
    "# Create the connection string using the ODBC driver format\n",
    "conn_str = f'DRIVER={{ODBC Driver 17 for SQL Server}};SERVER={server};DATABASE={database};UID={username};PWD={password}'\n",
    "\n",
    "# Establish the connection using the connection string\n",
    "conn = pyodbc.connect(conn_str)"
   ]
  },
  {
   "cell_type": "code",
   "execution_count": 4,
   "metadata": {},
   "outputs": [],
   "source": [
    "# Query the database to retrieve the data\n",
    "query = 'SELECT TOP 3000 * FROM LP2_Telco_churn_first_3000'\n",
    "df_db = pd.read_sql(query, conn)"
   ]
  },
  {
   "cell_type": "code",
   "execution_count": 5,
   "metadata": {},
   "outputs": [],
   "source": [
    "# Close connection\n",
    "conn.close()"
   ]
  },
  {
   "cell_type": "code",
   "execution_count": 6,
   "metadata": {},
   "outputs": [
    {
     "data": {
      "text/html": [
       "<div>\n",
       "<style scoped>\n",
       "    .dataframe tbody tr th:only-of-type {\n",
       "        vertical-align: middle;\n",
       "    }\n",
       "\n",
       "    .dataframe tbody tr th {\n",
       "        vertical-align: top;\n",
       "    }\n",
       "\n",
       "    .dataframe thead th {\n",
       "        text-align: right;\n",
       "    }\n",
       "</style>\n",
       "<table border=\"1\" class=\"dataframe\">\n",
       "  <thead>\n",
       "    <tr style=\"text-align: right;\">\n",
       "      <th></th>\n",
       "      <th>customerID</th>\n",
       "      <th>gender</th>\n",
       "      <th>SeniorCitizen</th>\n",
       "      <th>Partner</th>\n",
       "      <th>Dependents</th>\n",
       "      <th>tenure</th>\n",
       "      <th>PhoneService</th>\n",
       "      <th>MultipleLines</th>\n",
       "      <th>InternetService</th>\n",
       "      <th>OnlineSecurity</th>\n",
       "      <th>...</th>\n",
       "      <th>DeviceProtection</th>\n",
       "      <th>TechSupport</th>\n",
       "      <th>StreamingTV</th>\n",
       "      <th>StreamingMovies</th>\n",
       "      <th>Contract</th>\n",
       "      <th>PaperlessBilling</th>\n",
       "      <th>PaymentMethod</th>\n",
       "      <th>MonthlyCharges</th>\n",
       "      <th>TotalCharges</th>\n",
       "      <th>Churn</th>\n",
       "    </tr>\n",
       "  </thead>\n",
       "  <tbody>\n",
       "    <tr>\n",
       "      <th>0</th>\n",
       "      <td>7590-VHVEG</td>\n",
       "      <td>Female</td>\n",
       "      <td>False</td>\n",
       "      <td>True</td>\n",
       "      <td>False</td>\n",
       "      <td>1</td>\n",
       "      <td>False</td>\n",
       "      <td>None</td>\n",
       "      <td>DSL</td>\n",
       "      <td>False</td>\n",
       "      <td>...</td>\n",
       "      <td>False</td>\n",
       "      <td>False</td>\n",
       "      <td>False</td>\n",
       "      <td>False</td>\n",
       "      <td>Month-to-month</td>\n",
       "      <td>True</td>\n",
       "      <td>Electronic check</td>\n",
       "      <td>29.850000</td>\n",
       "      <td>29.850000</td>\n",
       "      <td>False</td>\n",
       "    </tr>\n",
       "    <tr>\n",
       "      <th>1</th>\n",
       "      <td>5575-GNVDE</td>\n",
       "      <td>Male</td>\n",
       "      <td>False</td>\n",
       "      <td>False</td>\n",
       "      <td>False</td>\n",
       "      <td>34</td>\n",
       "      <td>True</td>\n",
       "      <td>False</td>\n",
       "      <td>DSL</td>\n",
       "      <td>True</td>\n",
       "      <td>...</td>\n",
       "      <td>True</td>\n",
       "      <td>False</td>\n",
       "      <td>False</td>\n",
       "      <td>False</td>\n",
       "      <td>One year</td>\n",
       "      <td>False</td>\n",
       "      <td>Mailed check</td>\n",
       "      <td>56.950001</td>\n",
       "      <td>1889.500000</td>\n",
       "      <td>False</td>\n",
       "    </tr>\n",
       "    <tr>\n",
       "      <th>2</th>\n",
       "      <td>3668-QPYBK</td>\n",
       "      <td>Male</td>\n",
       "      <td>False</td>\n",
       "      <td>False</td>\n",
       "      <td>False</td>\n",
       "      <td>2</td>\n",
       "      <td>True</td>\n",
       "      <td>False</td>\n",
       "      <td>DSL</td>\n",
       "      <td>True</td>\n",
       "      <td>...</td>\n",
       "      <td>False</td>\n",
       "      <td>False</td>\n",
       "      <td>False</td>\n",
       "      <td>False</td>\n",
       "      <td>Month-to-month</td>\n",
       "      <td>True</td>\n",
       "      <td>Mailed check</td>\n",
       "      <td>53.849998</td>\n",
       "      <td>108.150002</td>\n",
       "      <td>True</td>\n",
       "    </tr>\n",
       "    <tr>\n",
       "      <th>3</th>\n",
       "      <td>7795-CFOCW</td>\n",
       "      <td>Male</td>\n",
       "      <td>False</td>\n",
       "      <td>False</td>\n",
       "      <td>False</td>\n",
       "      <td>45</td>\n",
       "      <td>False</td>\n",
       "      <td>None</td>\n",
       "      <td>DSL</td>\n",
       "      <td>True</td>\n",
       "      <td>...</td>\n",
       "      <td>True</td>\n",
       "      <td>True</td>\n",
       "      <td>False</td>\n",
       "      <td>False</td>\n",
       "      <td>One year</td>\n",
       "      <td>False</td>\n",
       "      <td>Bank transfer (automatic)</td>\n",
       "      <td>42.299999</td>\n",
       "      <td>1840.750000</td>\n",
       "      <td>False</td>\n",
       "    </tr>\n",
       "    <tr>\n",
       "      <th>4</th>\n",
       "      <td>9237-HQITU</td>\n",
       "      <td>Female</td>\n",
       "      <td>False</td>\n",
       "      <td>False</td>\n",
       "      <td>False</td>\n",
       "      <td>2</td>\n",
       "      <td>True</td>\n",
       "      <td>False</td>\n",
       "      <td>Fiber optic</td>\n",
       "      <td>False</td>\n",
       "      <td>...</td>\n",
       "      <td>False</td>\n",
       "      <td>False</td>\n",
       "      <td>False</td>\n",
       "      <td>False</td>\n",
       "      <td>Month-to-month</td>\n",
       "      <td>True</td>\n",
       "      <td>Electronic check</td>\n",
       "      <td>70.699997</td>\n",
       "      <td>151.649994</td>\n",
       "      <td>True</td>\n",
       "    </tr>\n",
       "  </tbody>\n",
       "</table>\n",
       "<p>5 rows × 21 columns</p>\n",
       "</div>"
      ],
      "text/plain": [
       "   customerID  gender  SeniorCitizen  Partner  Dependents  tenure  \\\n",
       "0  7590-VHVEG  Female          False     True       False       1   \n",
       "1  5575-GNVDE    Male          False    False       False      34   \n",
       "2  3668-QPYBK    Male          False    False       False       2   \n",
       "3  7795-CFOCW    Male          False    False       False      45   \n",
       "4  9237-HQITU  Female          False    False       False       2   \n",
       "\n",
       "   PhoneService MultipleLines InternetService OnlineSecurity  ...  \\\n",
       "0         False          None             DSL          False  ...   \n",
       "1          True         False             DSL           True  ...   \n",
       "2          True         False             DSL           True  ...   \n",
       "3         False          None             DSL           True  ...   \n",
       "4          True         False     Fiber optic          False  ...   \n",
       "\n",
       "  DeviceProtection TechSupport StreamingTV StreamingMovies        Contract  \\\n",
       "0            False       False       False           False  Month-to-month   \n",
       "1             True       False       False           False        One year   \n",
       "2            False       False       False           False  Month-to-month   \n",
       "3             True        True       False           False        One year   \n",
       "4            False       False       False           False  Month-to-month   \n",
       "\n",
       "  PaperlessBilling              PaymentMethod MonthlyCharges  TotalCharges  \\\n",
       "0             True           Electronic check      29.850000     29.850000   \n",
       "1            False               Mailed check      56.950001   1889.500000   \n",
       "2             True               Mailed check      53.849998    108.150002   \n",
       "3            False  Bank transfer (automatic)      42.299999   1840.750000   \n",
       "4             True           Electronic check      70.699997    151.649994   \n",
       "\n",
       "   Churn  \n",
       "0  False  \n",
       "1  False  \n",
       "2   True  \n",
       "3  False  \n",
       "4   True  \n",
       "\n",
       "[5 rows x 21 columns]"
      ]
     },
     "execution_count": 6,
     "metadata": {},
     "output_type": "execute_result"
    }
   ],
   "source": [
    "# Display the dataframe\n",
    "df_db.head()"
   ]
  },
  {
   "cell_type": "code",
   "execution_count": 7,
   "metadata": {},
   "outputs": [
    {
     "name": "stdout",
     "output_type": "stream",
     "text": [
      "<class 'pandas.core.frame.DataFrame'>\n",
      "RangeIndex: 3000 entries, 0 to 2999\n",
      "Data columns (total 21 columns):\n",
      " #   Column            Non-Null Count  Dtype  \n",
      "---  ------            --------------  -----  \n",
      " 0   customerID        3000 non-null   object \n",
      " 1   gender            3000 non-null   object \n",
      " 2   SeniorCitizen     3000 non-null   bool   \n",
      " 3   Partner           3000 non-null   bool   \n",
      " 4   Dependents        3000 non-null   bool   \n",
      " 5   tenure            3000 non-null   int64  \n",
      " 6   PhoneService      3000 non-null   bool   \n",
      " 7   MultipleLines     2731 non-null   object \n",
      " 8   InternetService   3000 non-null   object \n",
      " 9   OnlineSecurity    2349 non-null   object \n",
      " 10  OnlineBackup      2349 non-null   object \n",
      " 11  DeviceProtection  2349 non-null   object \n",
      " 12  TechSupport       2349 non-null   object \n",
      " 13  StreamingTV       2349 non-null   object \n",
      " 14  StreamingMovies   2349 non-null   object \n",
      " 15  Contract          3000 non-null   object \n",
      " 16  PaperlessBilling  3000 non-null   bool   \n",
      " 17  PaymentMethod     3000 non-null   object \n",
      " 18  MonthlyCharges    3000 non-null   float64\n",
      " 19  TotalCharges      2995 non-null   float64\n",
      " 20  Churn             2999 non-null   object \n",
      "dtypes: bool(5), float64(2), int64(1), object(13)\n",
      "memory usage: 389.8+ KB\n"
     ]
    }
   ],
   "source": [
    "# Display the dataframe\n",
    "df_db.info()"
   ]
  },
  {
   "cell_type": "markdown",
   "metadata": {},
   "source": [
    "## Load second dataset (excelfile)"
   ]
  },
  {
   "cell_type": "code",
   "execution_count": 8,
   "metadata": {},
   "outputs": [
    {
     "data": {
      "text/html": [
       "<div>\n",
       "<style scoped>\n",
       "    .dataframe tbody tr th:only-of-type {\n",
       "        vertical-align: middle;\n",
       "    }\n",
       "\n",
       "    .dataframe tbody tr th {\n",
       "        vertical-align: top;\n",
       "    }\n",
       "\n",
       "    .dataframe thead th {\n",
       "        text-align: right;\n",
       "    }\n",
       "</style>\n",
       "<table border=\"1\" class=\"dataframe\">\n",
       "  <thead>\n",
       "    <tr style=\"text-align: right;\">\n",
       "      <th></th>\n",
       "      <th>customerID</th>\n",
       "      <th>gender</th>\n",
       "      <th>SeniorCitizen</th>\n",
       "      <th>Partner</th>\n",
       "      <th>Dependents</th>\n",
       "      <th>tenure</th>\n",
       "      <th>PhoneService</th>\n",
       "      <th>MultipleLines</th>\n",
       "      <th>InternetService</th>\n",
       "      <th>OnlineSecurity</th>\n",
       "      <th>OnlineBackup</th>\n",
       "      <th>DeviceProtection</th>\n",
       "      <th>TechSupport</th>\n",
       "      <th>StreamingTV</th>\n",
       "      <th>StreamingMovies</th>\n",
       "      <th>Contract</th>\n",
       "      <th>PaperlessBilling</th>\n",
       "      <th>PaymentMethod</th>\n",
       "      <th>MonthlyCharges</th>\n",
       "      <th>TotalCharges</th>\n",
       "    </tr>\n",
       "  </thead>\n",
       "  <tbody>\n",
       "    <tr>\n",
       "      <th>0</th>\n",
       "      <td>7613-LLQFO</td>\n",
       "      <td>Male</td>\n",
       "      <td>0</td>\n",
       "      <td>No</td>\n",
       "      <td>No</td>\n",
       "      <td>12</td>\n",
       "      <td>Yes</td>\n",
       "      <td>Yes</td>\n",
       "      <td>Fiber optic</td>\n",
       "      <td>No</td>\n",
       "      <td>No</td>\n",
       "      <td>No</td>\n",
       "      <td>No</td>\n",
       "      <td>Yes</td>\n",
       "      <td>No</td>\n",
       "      <td>Month-to-month</td>\n",
       "      <td>Yes</td>\n",
       "      <td>Electronic check</td>\n",
       "      <td>84.45</td>\n",
       "      <td>1059.55</td>\n",
       "    </tr>\n",
       "    <tr>\n",
       "      <th>1</th>\n",
       "      <td>4568-TTZRT</td>\n",
       "      <td>Male</td>\n",
       "      <td>0</td>\n",
       "      <td>No</td>\n",
       "      <td>No</td>\n",
       "      <td>9</td>\n",
       "      <td>Yes</td>\n",
       "      <td>No</td>\n",
       "      <td>No</td>\n",
       "      <td>No internet service</td>\n",
       "      <td>No internet service</td>\n",
       "      <td>No internet service</td>\n",
       "      <td>No internet service</td>\n",
       "      <td>No internet service</td>\n",
       "      <td>No internet service</td>\n",
       "      <td>Month-to-month</td>\n",
       "      <td>No</td>\n",
       "      <td>Mailed check</td>\n",
       "      <td>20.40</td>\n",
       "      <td>181.8</td>\n",
       "    </tr>\n",
       "    <tr>\n",
       "      <th>2</th>\n",
       "      <td>9513-DXHDA</td>\n",
       "      <td>Male</td>\n",
       "      <td>0</td>\n",
       "      <td>No</td>\n",
       "      <td>No</td>\n",
       "      <td>27</td>\n",
       "      <td>Yes</td>\n",
       "      <td>No</td>\n",
       "      <td>DSL</td>\n",
       "      <td>Yes</td>\n",
       "      <td>No</td>\n",
       "      <td>Yes</td>\n",
       "      <td>Yes</td>\n",
       "      <td>Yes</td>\n",
       "      <td>Yes</td>\n",
       "      <td>One year</td>\n",
       "      <td>No</td>\n",
       "      <td>Electronic check</td>\n",
       "      <td>81.70</td>\n",
       "      <td>2212.55</td>\n",
       "    </tr>\n",
       "    <tr>\n",
       "      <th>3</th>\n",
       "      <td>2640-PMGFL</td>\n",
       "      <td>Male</td>\n",
       "      <td>0</td>\n",
       "      <td>No</td>\n",
       "      <td>Yes</td>\n",
       "      <td>27</td>\n",
       "      <td>Yes</td>\n",
       "      <td>Yes</td>\n",
       "      <td>Fiber optic</td>\n",
       "      <td>No</td>\n",
       "      <td>No</td>\n",
       "      <td>No</td>\n",
       "      <td>Yes</td>\n",
       "      <td>No</td>\n",
       "      <td>No</td>\n",
       "      <td>Month-to-month</td>\n",
       "      <td>Yes</td>\n",
       "      <td>Electronic check</td>\n",
       "      <td>79.50</td>\n",
       "      <td>2180.55</td>\n",
       "    </tr>\n",
       "    <tr>\n",
       "      <th>4</th>\n",
       "      <td>3801-HMYNL</td>\n",
       "      <td>Male</td>\n",
       "      <td>0</td>\n",
       "      <td>Yes</td>\n",
       "      <td>Yes</td>\n",
       "      <td>1</td>\n",
       "      <td>Yes</td>\n",
       "      <td>No</td>\n",
       "      <td>Fiber optic</td>\n",
       "      <td>No</td>\n",
       "      <td>No</td>\n",
       "      <td>No</td>\n",
       "      <td>No</td>\n",
       "      <td>Yes</td>\n",
       "      <td>Yes</td>\n",
       "      <td>Month-to-month</td>\n",
       "      <td>No</td>\n",
       "      <td>Mailed check</td>\n",
       "      <td>89.15</td>\n",
       "      <td>89.15</td>\n",
       "    </tr>\n",
       "  </tbody>\n",
       "</table>\n",
       "</div>"
      ],
      "text/plain": [
       "   customerID gender  SeniorCitizen Partner Dependents  tenure PhoneService  \\\n",
       "0  7613-LLQFO   Male              0      No         No      12          Yes   \n",
       "1  4568-TTZRT   Male              0      No         No       9          Yes   \n",
       "2  9513-DXHDA   Male              0      No         No      27          Yes   \n",
       "3  2640-PMGFL   Male              0      No        Yes      27          Yes   \n",
       "4  3801-HMYNL   Male              0     Yes        Yes       1          Yes   \n",
       "\n",
       "  MultipleLines InternetService       OnlineSecurity         OnlineBackup  \\\n",
       "0           Yes     Fiber optic                   No                   No   \n",
       "1            No              No  No internet service  No internet service   \n",
       "2            No             DSL                  Yes                   No   \n",
       "3           Yes     Fiber optic                   No                   No   \n",
       "4            No     Fiber optic                   No                   No   \n",
       "\n",
       "      DeviceProtection          TechSupport          StreamingTV  \\\n",
       "0                   No                   No                  Yes   \n",
       "1  No internet service  No internet service  No internet service   \n",
       "2                  Yes                  Yes                  Yes   \n",
       "3                   No                  Yes                   No   \n",
       "4                   No                   No                  Yes   \n",
       "\n",
       "       StreamingMovies        Contract PaperlessBilling     PaymentMethod  \\\n",
       "0                   No  Month-to-month              Yes  Electronic check   \n",
       "1  No internet service  Month-to-month               No      Mailed check   \n",
       "2                  Yes        One year               No  Electronic check   \n",
       "3                   No  Month-to-month              Yes  Electronic check   \n",
       "4                  Yes  Month-to-month               No      Mailed check   \n",
       "\n",
       "   MonthlyCharges TotalCharges  \n",
       "0           84.45      1059.55  \n",
       "1           20.40        181.8  \n",
       "2           81.70      2212.55  \n",
       "3           79.50      2180.55  \n",
       "4           89.15        89.15  "
      ]
     },
     "execution_count": 8,
     "metadata": {},
     "output_type": "execute_result"
    }
   ],
   "source": [
    "# Read the excel file into a pandas dataframe\n",
    "df_excel = pd.read_excel('Telco-churn-second-2000.xlsx')\n",
    "\n",
    "# Display the dataframe\n",
    "df_excel.head()"
   ]
  },
  {
   "cell_type": "code",
   "execution_count": 9,
   "metadata": {},
   "outputs": [
    {
     "name": "stdout",
     "output_type": "stream",
     "text": [
      "<class 'pandas.core.frame.DataFrame'>\n",
      "RangeIndex: 2000 entries, 0 to 1999\n",
      "Data columns (total 20 columns):\n",
      " #   Column            Non-Null Count  Dtype  \n",
      "---  ------            --------------  -----  \n",
      " 0   customerID        2000 non-null   object \n",
      " 1   gender            2000 non-null   object \n",
      " 2   SeniorCitizen     2000 non-null   int64  \n",
      " 3   Partner           2000 non-null   object \n",
      " 4   Dependents        2000 non-null   object \n",
      " 5   tenure            2000 non-null   int64  \n",
      " 6   PhoneService      2000 non-null   object \n",
      " 7   MultipleLines     2000 non-null   object \n",
      " 8   InternetService   2000 non-null   object \n",
      " 9   OnlineSecurity    2000 non-null   object \n",
      " 10  OnlineBackup      2000 non-null   object \n",
      " 11  DeviceProtection  2000 non-null   object \n",
      " 12  TechSupport       2000 non-null   object \n",
      " 13  StreamingTV       2000 non-null   object \n",
      " 14  StreamingMovies   2000 non-null   object \n",
      " 15  Contract          2000 non-null   object \n",
      " 16  PaperlessBilling  2000 non-null   object \n",
      " 17  PaymentMethod     2000 non-null   object \n",
      " 18  MonthlyCharges    2000 non-null   float64\n",
      " 19  TotalCharges      2000 non-null   object \n",
      "dtypes: float64(1), int64(2), object(17)\n",
      "memory usage: 312.6+ KB\n"
     ]
    }
   ],
   "source": [
    "df_excel.info()"
   ]
  },
  {
   "cell_type": "markdown",
   "metadata": {},
   "source": [
    "## Load third dataset (csv file)"
   ]
  },
  {
   "cell_type": "code",
   "execution_count": 10,
   "metadata": {},
   "outputs": [
    {
     "data": {
      "text/html": [
       "<div>\n",
       "<style scoped>\n",
       "    .dataframe tbody tr th:only-of-type {\n",
       "        vertical-align: middle;\n",
       "    }\n",
       "\n",
       "    .dataframe tbody tr th {\n",
       "        vertical-align: top;\n",
       "    }\n",
       "\n",
       "    .dataframe thead th {\n",
       "        text-align: right;\n",
       "    }\n",
       "</style>\n",
       "<table border=\"1\" class=\"dataframe\">\n",
       "  <thead>\n",
       "    <tr style=\"text-align: right;\">\n",
       "      <th></th>\n",
       "      <th>customerID</th>\n",
       "      <th>gender</th>\n",
       "      <th>SeniorCitizen</th>\n",
       "      <th>Partner</th>\n",
       "      <th>Dependents</th>\n",
       "      <th>tenure</th>\n",
       "      <th>PhoneService</th>\n",
       "      <th>MultipleLines</th>\n",
       "      <th>InternetService</th>\n",
       "      <th>OnlineSecurity</th>\n",
       "      <th>...</th>\n",
       "      <th>DeviceProtection</th>\n",
       "      <th>TechSupport</th>\n",
       "      <th>StreamingTV</th>\n",
       "      <th>StreamingMovies</th>\n",
       "      <th>Contract</th>\n",
       "      <th>PaperlessBilling</th>\n",
       "      <th>PaymentMethod</th>\n",
       "      <th>MonthlyCharges</th>\n",
       "      <th>TotalCharges</th>\n",
       "      <th>Churn</th>\n",
       "    </tr>\n",
       "  </thead>\n",
       "  <tbody>\n",
       "    <tr>\n",
       "      <th>0</th>\n",
       "      <td>5600-PDUJF</td>\n",
       "      <td>Male</td>\n",
       "      <td>0</td>\n",
       "      <td>No</td>\n",
       "      <td>No</td>\n",
       "      <td>6</td>\n",
       "      <td>Yes</td>\n",
       "      <td>No</td>\n",
       "      <td>DSL</td>\n",
       "      <td>No</td>\n",
       "      <td>...</td>\n",
       "      <td>No</td>\n",
       "      <td>Yes</td>\n",
       "      <td>No</td>\n",
       "      <td>No</td>\n",
       "      <td>Month-to-month</td>\n",
       "      <td>Yes</td>\n",
       "      <td>Credit card (automatic)</td>\n",
       "      <td>49.50</td>\n",
       "      <td>312.7</td>\n",
       "      <td>No</td>\n",
       "    </tr>\n",
       "    <tr>\n",
       "      <th>1</th>\n",
       "      <td>8292-TYSPY</td>\n",
       "      <td>Male</td>\n",
       "      <td>0</td>\n",
       "      <td>No</td>\n",
       "      <td>No</td>\n",
       "      <td>19</td>\n",
       "      <td>Yes</td>\n",
       "      <td>No</td>\n",
       "      <td>DSL</td>\n",
       "      <td>No</td>\n",
       "      <td>...</td>\n",
       "      <td>Yes</td>\n",
       "      <td>Yes</td>\n",
       "      <td>No</td>\n",
       "      <td>No</td>\n",
       "      <td>Month-to-month</td>\n",
       "      <td>Yes</td>\n",
       "      <td>Credit card (automatic)</td>\n",
       "      <td>55.00</td>\n",
       "      <td>1046.5</td>\n",
       "      <td>Yes</td>\n",
       "    </tr>\n",
       "    <tr>\n",
       "      <th>2</th>\n",
       "      <td>0567-XRHCU</td>\n",
       "      <td>Female</td>\n",
       "      <td>0</td>\n",
       "      <td>Yes</td>\n",
       "      <td>Yes</td>\n",
       "      <td>69</td>\n",
       "      <td>No</td>\n",
       "      <td>No phone service</td>\n",
       "      <td>DSL</td>\n",
       "      <td>Yes</td>\n",
       "      <td>...</td>\n",
       "      <td>Yes</td>\n",
       "      <td>No</td>\n",
       "      <td>No</td>\n",
       "      <td>Yes</td>\n",
       "      <td>Two year</td>\n",
       "      <td>Yes</td>\n",
       "      <td>Credit card (automatic)</td>\n",
       "      <td>43.95</td>\n",
       "      <td>2960.1</td>\n",
       "      <td>No</td>\n",
       "    </tr>\n",
       "    <tr>\n",
       "      <th>3</th>\n",
       "      <td>1867-BDVFH</td>\n",
       "      <td>Male</td>\n",
       "      <td>0</td>\n",
       "      <td>Yes</td>\n",
       "      <td>Yes</td>\n",
       "      <td>11</td>\n",
       "      <td>Yes</td>\n",
       "      <td>Yes</td>\n",
       "      <td>Fiber optic</td>\n",
       "      <td>No</td>\n",
       "      <td>...</td>\n",
       "      <td>No</td>\n",
       "      <td>No</td>\n",
       "      <td>No</td>\n",
       "      <td>No</td>\n",
       "      <td>Month-to-month</td>\n",
       "      <td>Yes</td>\n",
       "      <td>Electronic check</td>\n",
       "      <td>74.35</td>\n",
       "      <td>834.2</td>\n",
       "      <td>Yes</td>\n",
       "    </tr>\n",
       "    <tr>\n",
       "      <th>4</th>\n",
       "      <td>2067-QYTCF</td>\n",
       "      <td>Female</td>\n",
       "      <td>0</td>\n",
       "      <td>Yes</td>\n",
       "      <td>No</td>\n",
       "      <td>64</td>\n",
       "      <td>Yes</td>\n",
       "      <td>Yes</td>\n",
       "      <td>Fiber optic</td>\n",
       "      <td>No</td>\n",
       "      <td>...</td>\n",
       "      <td>Yes</td>\n",
       "      <td>Yes</td>\n",
       "      <td>Yes</td>\n",
       "      <td>Yes</td>\n",
       "      <td>Month-to-month</td>\n",
       "      <td>Yes</td>\n",
       "      <td>Electronic check</td>\n",
       "      <td>111.15</td>\n",
       "      <td>6953.4</td>\n",
       "      <td>No</td>\n",
       "    </tr>\n",
       "  </tbody>\n",
       "</table>\n",
       "<p>5 rows × 21 columns</p>\n",
       "</div>"
      ],
      "text/plain": [
       "   customerID  gender  SeniorCitizen Partner Dependents  tenure PhoneService  \\\n",
       "0  5600-PDUJF    Male              0      No         No       6          Yes   \n",
       "1  8292-TYSPY    Male              0      No         No      19          Yes   \n",
       "2  0567-XRHCU  Female              0     Yes        Yes      69           No   \n",
       "3  1867-BDVFH    Male              0     Yes        Yes      11          Yes   \n",
       "4  2067-QYTCF  Female              0     Yes         No      64          Yes   \n",
       "\n",
       "      MultipleLines InternetService OnlineSecurity  ... DeviceProtection  \\\n",
       "0                No             DSL             No  ...               No   \n",
       "1                No             DSL             No  ...              Yes   \n",
       "2  No phone service             DSL            Yes  ...              Yes   \n",
       "3               Yes     Fiber optic             No  ...               No   \n",
       "4               Yes     Fiber optic             No  ...              Yes   \n",
       "\n",
       "  TechSupport StreamingTV StreamingMovies        Contract PaperlessBilling  \\\n",
       "0         Yes          No              No  Month-to-month              Yes   \n",
       "1         Yes          No              No  Month-to-month              Yes   \n",
       "2          No          No             Yes        Two year              Yes   \n",
       "3          No          No              No  Month-to-month              Yes   \n",
       "4         Yes         Yes             Yes  Month-to-month              Yes   \n",
       "\n",
       "             PaymentMethod MonthlyCharges  TotalCharges Churn  \n",
       "0  Credit card (automatic)          49.50         312.7    No  \n",
       "1  Credit card (automatic)          55.00        1046.5   Yes  \n",
       "2  Credit card (automatic)          43.95        2960.1    No  \n",
       "3         Electronic check          74.35         834.2   Yes  \n",
       "4         Electronic check         111.15        6953.4    No  \n",
       "\n",
       "[5 rows x 21 columns]"
      ]
     },
     "execution_count": 10,
     "metadata": {},
     "output_type": "execute_result"
    }
   ],
   "source": [
    "# Read third dataset\n",
    "df_csv = pd.read_csv('LP2_Telco-churn-last-2000.csv')\n",
    "\n",
    "# Display the dataframe\n",
    "df_csv.head()"
   ]
  },
  {
   "cell_type": "markdown",
   "metadata": {},
   "source": [
    "## Organize the Datasets into Train and Test"
   ]
  },
  {
   "cell_type": "markdown",
   "metadata": {},
   "source": [
    "### Train Dataset"
   ]
  },
  {
   "cell_type": "code",
   "execution_count": 11,
   "metadata": {},
   "outputs": [
    {
     "data": {
      "text/html": [
       "<div>\n",
       "<style scoped>\n",
       "    .dataframe tbody tr th:only-of-type {\n",
       "        vertical-align: middle;\n",
       "    }\n",
       "\n",
       "    .dataframe tbody tr th {\n",
       "        vertical-align: top;\n",
       "    }\n",
       "\n",
       "    .dataframe thead th {\n",
       "        text-align: right;\n",
       "    }\n",
       "</style>\n",
       "<table border=\"1\" class=\"dataframe\">\n",
       "  <thead>\n",
       "    <tr style=\"text-align: right;\">\n",
       "      <th></th>\n",
       "      <th>customerID</th>\n",
       "      <th>gender</th>\n",
       "      <th>SeniorCitizen</th>\n",
       "      <th>Partner</th>\n",
       "      <th>Dependents</th>\n",
       "      <th>tenure</th>\n",
       "      <th>PhoneService</th>\n",
       "      <th>MultipleLines</th>\n",
       "      <th>InternetService</th>\n",
       "      <th>OnlineSecurity</th>\n",
       "      <th>...</th>\n",
       "      <th>DeviceProtection</th>\n",
       "      <th>TechSupport</th>\n",
       "      <th>StreamingTV</th>\n",
       "      <th>StreamingMovies</th>\n",
       "      <th>Contract</th>\n",
       "      <th>PaperlessBilling</th>\n",
       "      <th>PaymentMethod</th>\n",
       "      <th>MonthlyCharges</th>\n",
       "      <th>TotalCharges</th>\n",
       "      <th>Churn</th>\n",
       "    </tr>\n",
       "  </thead>\n",
       "  <tbody>\n",
       "    <tr>\n",
       "      <th>0</th>\n",
       "      <td>7590-VHVEG</td>\n",
       "      <td>Female</td>\n",
       "      <td>False</td>\n",
       "      <td>True</td>\n",
       "      <td>False</td>\n",
       "      <td>1</td>\n",
       "      <td>False</td>\n",
       "      <td>None</td>\n",
       "      <td>DSL</td>\n",
       "      <td>False</td>\n",
       "      <td>...</td>\n",
       "      <td>False</td>\n",
       "      <td>False</td>\n",
       "      <td>False</td>\n",
       "      <td>False</td>\n",
       "      <td>Month-to-month</td>\n",
       "      <td>True</td>\n",
       "      <td>Electronic check</td>\n",
       "      <td>29.850000</td>\n",
       "      <td>29.85</td>\n",
       "      <td>False</td>\n",
       "    </tr>\n",
       "    <tr>\n",
       "      <th>1</th>\n",
       "      <td>5575-GNVDE</td>\n",
       "      <td>Male</td>\n",
       "      <td>False</td>\n",
       "      <td>False</td>\n",
       "      <td>False</td>\n",
       "      <td>34</td>\n",
       "      <td>True</td>\n",
       "      <td>False</td>\n",
       "      <td>DSL</td>\n",
       "      <td>True</td>\n",
       "      <td>...</td>\n",
       "      <td>True</td>\n",
       "      <td>False</td>\n",
       "      <td>False</td>\n",
       "      <td>False</td>\n",
       "      <td>One year</td>\n",
       "      <td>False</td>\n",
       "      <td>Mailed check</td>\n",
       "      <td>56.950001</td>\n",
       "      <td>1889.5</td>\n",
       "      <td>False</td>\n",
       "    </tr>\n",
       "    <tr>\n",
       "      <th>2</th>\n",
       "      <td>3668-QPYBK</td>\n",
       "      <td>Male</td>\n",
       "      <td>False</td>\n",
       "      <td>False</td>\n",
       "      <td>False</td>\n",
       "      <td>2</td>\n",
       "      <td>True</td>\n",
       "      <td>False</td>\n",
       "      <td>DSL</td>\n",
       "      <td>True</td>\n",
       "      <td>...</td>\n",
       "      <td>False</td>\n",
       "      <td>False</td>\n",
       "      <td>False</td>\n",
       "      <td>False</td>\n",
       "      <td>Month-to-month</td>\n",
       "      <td>True</td>\n",
       "      <td>Mailed check</td>\n",
       "      <td>53.849998</td>\n",
       "      <td>108.150002</td>\n",
       "      <td>True</td>\n",
       "    </tr>\n",
       "    <tr>\n",
       "      <th>3</th>\n",
       "      <td>7795-CFOCW</td>\n",
       "      <td>Male</td>\n",
       "      <td>False</td>\n",
       "      <td>False</td>\n",
       "      <td>False</td>\n",
       "      <td>45</td>\n",
       "      <td>False</td>\n",
       "      <td>None</td>\n",
       "      <td>DSL</td>\n",
       "      <td>True</td>\n",
       "      <td>...</td>\n",
       "      <td>True</td>\n",
       "      <td>True</td>\n",
       "      <td>False</td>\n",
       "      <td>False</td>\n",
       "      <td>One year</td>\n",
       "      <td>False</td>\n",
       "      <td>Bank transfer (automatic)</td>\n",
       "      <td>42.299999</td>\n",
       "      <td>1840.75</td>\n",
       "      <td>False</td>\n",
       "    </tr>\n",
       "    <tr>\n",
       "      <th>4</th>\n",
       "      <td>9237-HQITU</td>\n",
       "      <td>Female</td>\n",
       "      <td>False</td>\n",
       "      <td>False</td>\n",
       "      <td>False</td>\n",
       "      <td>2</td>\n",
       "      <td>True</td>\n",
       "      <td>False</td>\n",
       "      <td>Fiber optic</td>\n",
       "      <td>False</td>\n",
       "      <td>...</td>\n",
       "      <td>False</td>\n",
       "      <td>False</td>\n",
       "      <td>False</td>\n",
       "      <td>False</td>\n",
       "      <td>Month-to-month</td>\n",
       "      <td>True</td>\n",
       "      <td>Electronic check</td>\n",
       "      <td>70.699997</td>\n",
       "      <td>151.649994</td>\n",
       "      <td>True</td>\n",
       "    </tr>\n",
       "  </tbody>\n",
       "</table>\n",
       "<p>5 rows × 21 columns</p>\n",
       "</div>"
      ],
      "text/plain": [
       "   customerID  gender SeniorCitizen Partner Dependents  tenure PhoneService  \\\n",
       "0  7590-VHVEG  Female         False    True      False       1        False   \n",
       "1  5575-GNVDE    Male         False   False      False      34         True   \n",
       "2  3668-QPYBK    Male         False   False      False       2         True   \n",
       "3  7795-CFOCW    Male         False   False      False      45        False   \n",
       "4  9237-HQITU  Female         False   False      False       2         True   \n",
       "\n",
       "  MultipleLines InternetService OnlineSecurity  ... DeviceProtection  \\\n",
       "0          None             DSL          False  ...            False   \n",
       "1         False             DSL           True  ...             True   \n",
       "2         False             DSL           True  ...            False   \n",
       "3          None             DSL           True  ...             True   \n",
       "4         False     Fiber optic          False  ...            False   \n",
       "\n",
       "  TechSupport StreamingTV StreamingMovies        Contract PaperlessBilling  \\\n",
       "0       False       False           False  Month-to-month             True   \n",
       "1       False       False           False        One year            False   \n",
       "2       False       False           False  Month-to-month             True   \n",
       "3        True       False           False        One year            False   \n",
       "4       False       False           False  Month-to-month             True   \n",
       "\n",
       "               PaymentMethod MonthlyCharges  TotalCharges  Churn  \n",
       "0           Electronic check      29.850000         29.85  False  \n",
       "1               Mailed check      56.950001        1889.5  False  \n",
       "2               Mailed check      53.849998    108.150002   True  \n",
       "3  Bank transfer (automatic)      42.299999       1840.75  False  \n",
       "4           Electronic check      70.699997    151.649994   True  \n",
       "\n",
       "[5 rows x 21 columns]"
      ]
     },
     "execution_count": 11,
     "metadata": {},
     "output_type": "execute_result"
    }
   ],
   "source": [
    "# Train data is the 1st Dataset from the SQL Server and the 3rd Dataset from the CSV file.\n",
    "# Concat the two files into 1 dataset\n",
    "train_df = pd.concat([df_db, df_csv])\n",
    "train_df.head()"
   ]
  },
  {
   "cell_type": "code",
   "execution_count": 12,
   "metadata": {},
   "outputs": [],
   "source": [
    "# Save the train dataset in a new csv file\n",
    "train_df.to_csv('Train_Data.csv')"
   ]
  },
  {
   "cell_type": "markdown",
   "metadata": {},
   "source": [
    "### Test Dataset"
   ]
  },
  {
   "cell_type": "code",
   "execution_count": 13,
   "metadata": {},
   "outputs": [],
   "source": [
    "# The Test dataset is the 2nd Dataset from the Excel File \n",
    "test_df = df_excel"
   ]
  },
  {
   "cell_type": "markdown",
   "metadata": {},
   "source": [
    "# Questions and Hypothesis"
   ]
  },
  {
   "cell_type": "markdown",
   "metadata": {},
   "source": [
    "## Hypothesis\n",
    "\n",
    "H0: The churn rate of customers in the telecom company is not significantly influenced by various factors related to their \n",
    "demographics, services, and payment methods.\n",
    "\n",
    "H1: The churn rate of customers in the telecom company is influenced by various factors related to their demographics, services, and payment methods."
   ]
  },
  {
   "cell_type": "markdown",
   "metadata": {},
   "source": [
    "## Questions\n",
    "1. Is there a relationship between the monthly charges and the likelihood of churn?\n",
    "2. Do customers who have internet service, specifically fiber optic, exhibit a higher churn rate compared to those with DSL or no internet service?\n",
    "3. Does the availability of online security, online backup, device protection, and tech support impact the churn rate?\n",
    "4. How does the churn rate vary based on the customers' gender?\n",
    "5. Does the presence of a partner influence the likelihood of churn?\n",
    "6. Is there a correlation between the tenure of customers and their churn rate?"
   ]
  },
  {
   "cell_type": "markdown",
   "metadata": {},
   "source": [
    "# Data Exploration"
   ]
  },
  {
   "cell_type": "markdown",
   "metadata": {},
   "source": [
    "### Explore The Train and Test Datasets"
   ]
  },
  {
   "cell_type": "markdown",
   "metadata": {},
   "source": [
    "#### a. Column Information of The Datasets"
   ]
  },
  {
   "cell_type": "code",
   "execution_count": 14,
   "metadata": {
    "scrolled": false
   },
   "outputs": [
    {
     "name": "stdout",
     "output_type": "stream",
     "text": [
      "<class 'pandas.core.frame.DataFrame'>\n",
      "Int64Index: 5043 entries, 0 to 2042\n",
      "Data columns (total 21 columns):\n",
      " #   Column            Non-Null Count  Dtype  \n",
      "---  ------            --------------  -----  \n",
      " 0   customerID        5043 non-null   object \n",
      " 1   gender            5043 non-null   object \n",
      " 2   SeniorCitizen     5043 non-null   object \n",
      " 3   Partner           5043 non-null   object \n",
      " 4   Dependents        5043 non-null   object \n",
      " 5   tenure            5043 non-null   int64  \n",
      " 6   PhoneService      5043 non-null   object \n",
      " 7   MultipleLines     4774 non-null   object \n",
      " 8   InternetService   5043 non-null   object \n",
      " 9   OnlineSecurity    4392 non-null   object \n",
      " 10  OnlineBackup      4392 non-null   object \n",
      " 11  DeviceProtection  4392 non-null   object \n",
      " 12  TechSupport       4392 non-null   object \n",
      " 13  StreamingTV       4392 non-null   object \n",
      " 14  StreamingMovies   4392 non-null   object \n",
      " 15  Contract          5043 non-null   object \n",
      " 16  PaperlessBilling  5043 non-null   object \n",
      " 17  PaymentMethod     5043 non-null   object \n",
      " 18  MonthlyCharges    5043 non-null   float64\n",
      " 19  TotalCharges      5038 non-null   object \n",
      " 20  Churn             5042 non-null   object \n",
      "dtypes: float64(1), int64(1), object(19)\n",
      "memory usage: 866.8+ KB\n"
     ]
    }
   ],
   "source": [
    "# Train Dataset Column information\n",
    "train_df.info()"
   ]
  },
  {
   "cell_type": "code",
   "execution_count": 15,
   "metadata": {},
   "outputs": [
    {
     "name": "stdout",
     "output_type": "stream",
     "text": [
      "<class 'pandas.core.frame.DataFrame'>\n",
      "RangeIndex: 2000 entries, 0 to 1999\n",
      "Data columns (total 20 columns):\n",
      " #   Column            Non-Null Count  Dtype  \n",
      "---  ------            --------------  -----  \n",
      " 0   customerID        2000 non-null   object \n",
      " 1   gender            2000 non-null   object \n",
      " 2   SeniorCitizen     2000 non-null   int64  \n",
      " 3   Partner           2000 non-null   object \n",
      " 4   Dependents        2000 non-null   object \n",
      " 5   tenure            2000 non-null   int64  \n",
      " 6   PhoneService      2000 non-null   object \n",
      " 7   MultipleLines     2000 non-null   object \n",
      " 8   InternetService   2000 non-null   object \n",
      " 9   OnlineSecurity    2000 non-null   object \n",
      " 10  OnlineBackup      2000 non-null   object \n",
      " 11  DeviceProtection  2000 non-null   object \n",
      " 12  TechSupport       2000 non-null   object \n",
      " 13  StreamingTV       2000 non-null   object \n",
      " 14  StreamingMovies   2000 non-null   object \n",
      " 15  Contract          2000 non-null   object \n",
      " 16  PaperlessBilling  2000 non-null   object \n",
      " 17  PaymentMethod     2000 non-null   object \n",
      " 18  MonthlyCharges    2000 non-null   float64\n",
      " 19  TotalCharges      2000 non-null   object \n",
      "dtypes: float64(1), int64(2), object(17)\n",
      "memory usage: 312.6+ KB\n"
     ]
    }
   ],
   "source": [
    "# Test Dataset Column information\n",
    "test_df.info()"
   ]
  },
  {
   "cell_type": "raw",
   "metadata": {},
   "source": [
    "The train dataset has 5043 rows (entries), while the test dataset has 2000 rows. Several columns in both datasets contain missing values. \n",
    "\n",
    "The 'SeniorCitizens' column in the test dataset is an object while in the train dataset it is an integer.\n",
    "\n",
    "The 'TotalCharges' column in each dataset represents the total charges for each customer which represents a numeric data type but it is presented as one with object (string) values.\n",
    "\n",
    "As expected, the test dataset does not have the \"Churn\" column. This column is not needed because 'Churn' is the variable we want to predict. The goal is to use the trained model to predict whether customers in the test data will churn or not based on the other available features."
   ]
  },
  {
   "cell_type": "markdown",
   "metadata": {},
   "source": [
    "#### b. The Shape of The Datasets"
   ]
  },
  {
   "cell_type": "code",
   "execution_count": 16,
   "metadata": {},
   "outputs": [
    {
     "data": {
      "text/plain": [
       "(5043, 21)"
      ]
     },
     "execution_count": 16,
     "metadata": {},
     "output_type": "execute_result"
    }
   ],
   "source": [
    "# Check the shape of the train dataframe\n",
    "train_df.shape"
   ]
  },
  {
   "cell_type": "code",
   "execution_count": 17,
   "metadata": {},
   "outputs": [
    {
     "data": {
      "text/plain": [
       "(2000, 20)"
      ]
     },
     "execution_count": 17,
     "metadata": {},
     "output_type": "execute_result"
    }
   ],
   "source": [
    "# Check the shape of the test dataframe\n",
    "test_df.shape"
   ]
  },
  {
   "cell_type": "raw",
   "metadata": {},
   "source": [
    "The shape of the train dataframe is (5043, 21), indicating that it has 5043 rows and 21 columns.\n",
    "The shape of the test dataframe is (2000, 20), indicating that it has 2000 rows and 20 columns.\n",
    "\n",
    "These shapes confirm the differences noted earlier, where the train dataframe has more rows and one additional column compared to the test dataframe."
   ]
  },
  {
   "cell_type": "markdown",
   "metadata": {},
   "source": [
    "#### c. The Unique Values of The Datasets"
   ]
  },
  {
   "cell_type": "code",
   "execution_count": 18,
   "metadata": {},
   "outputs": [
    {
     "name": "stdout",
     "output_type": "stream",
     "text": [
      "Column: customerID - Unique Values: ['7590-VHVEG' '5575-GNVDE' '3668-QPYBK' ... '4801-JZAZL' '8361-LTMKD'\n",
      " '3186-AJIEK']\n",
      "=============================================\n",
      "Column: gender - Unique Values: ['Female' 'Male']\n",
      "=============================================\n",
      "Column: SeniorCitizen - Unique Values: [False True]\n",
      "=============================================\n",
      "Column: Partner - Unique Values: [True False 'No' 'Yes']\n",
      "=============================================\n",
      "Column: Dependents - Unique Values: [False True 'No' 'Yes']\n",
      "=============================================\n",
      "Column: tenure - Unique Values: [ 1 34  2 45  8 22 10 28 62 13 16 58 49 25 69 52 71 21 12 30 47 72 17 27\n",
      "  5 46 11 70 63 43 15 60 18 66  9  3 31 50 64 56  7 42 35 48 29 65 38 68\n",
      " 32 55 37 36 41  6  4 33 67 23 57 61 14 20 53 40 59 24 44 19 54 51 26  0\n",
      " 39]\n",
      "=============================================\n",
      "Column: PhoneService - Unique Values: [False True 'Yes' 'No']\n",
      "=============================================\n",
      "Column: MultipleLines - Unique Values: [None False True 'No' 'No phone service' 'Yes']\n",
      "=============================================\n",
      "Column: InternetService - Unique Values: ['DSL' 'Fiber optic' 'No']\n",
      "=============================================\n",
      "Column: OnlineSecurity - Unique Values: [False True None 'No' 'Yes' 'No internet service']\n",
      "=============================================\n",
      "Column: OnlineBackup - Unique Values: [True False None 'No' 'Yes' 'No internet service']\n",
      "=============================================\n",
      "Column: DeviceProtection - Unique Values: [False True None 'No' 'Yes' 'No internet service']\n",
      "=============================================\n",
      "Column: TechSupport - Unique Values: [False True None 'Yes' 'No' 'No internet service']\n",
      "=============================================\n",
      "Column: StreamingTV - Unique Values: [False True None 'No' 'Yes' 'No internet service']\n",
      "=============================================\n",
      "Column: StreamingMovies - Unique Values: [False True None 'No' 'Yes' 'No internet service']\n",
      "=============================================\n",
      "Column: Contract - Unique Values: ['Month-to-month' 'One year' 'Two year']\n",
      "=============================================\n",
      "Column: PaperlessBilling - Unique Values: [True False 'Yes' 'No']\n",
      "=============================================\n",
      "Column: PaymentMethod - Unique Values: ['Electronic check' 'Mailed check' 'Bank transfer (automatic)'\n",
      " 'Credit card (automatic)']\n",
      "=============================================\n",
      "Column: MonthlyCharges - Unique Values: [ 29.85000038  56.95000076  53.84999847 ...  78.7         60.65\n",
      " 103.2       ]\n",
      "=============================================\n",
      "Column: TotalCharges - Unique Values: [29.850000381469727 1889.5 108.1500015258789 ... '346.45' '306.6' '6844.5']\n",
      "=============================================\n",
      "Column: Churn - Unique Values: [False True None 'No' 'Yes']\n",
      "=============================================\n"
     ]
    }
   ],
   "source": [
    "# check unique values of each column\n",
    "for column in train_df.columns:\n",
    "    print('Column: {} - Unique Values: {}'.format(column, train_df[column].unique()))\n",
    "    print('==='*15)"
   ]
  },
  {
   "cell_type": "code",
   "execution_count": 19,
   "metadata": {
    "scrolled": false
   },
   "outputs": [
    {
     "name": "stdout",
     "output_type": "stream",
     "text": [
      "Column: customerID - Unique Values: ['7613-LLQFO' '4568-TTZRT' '9513-DXHDA' ... '4816-JBHOV' '8920-NAVAY'\n",
      " '1699-TLDLZ']\n",
      "=============================================\n",
      "Column: gender - Unique Values: ['Male' 'Female']\n",
      "=============================================\n",
      "Column: SeniorCitizen - Unique Values: [0 1]\n",
      "=============================================\n",
      "Column: Partner - Unique Values: ['No' 'Yes']\n",
      "=============================================\n",
      "Column: Dependents - Unique Values: ['No' 'Yes']\n",
      "=============================================\n",
      "Column: tenure - Unique Values: [12  9 27  1 24 14 32 11 38 54 29 44 59  3 18 67 22 33  5  2 72 16  8 23\n",
      " 50 17 68 25 71 46 48 61 37 65 49 64 21 10  6 51 47 52 35 45  4 60 28 39\n",
      " 30 55 58 26 43 56 36 13 70 69 41 15 19 31 34 66 40  7 53 63 42  0 57 62\n",
      " 20]\n",
      "=============================================\n",
      "Column: PhoneService - Unique Values: ['Yes' 'No']\n",
      "=============================================\n",
      "Column: MultipleLines - Unique Values: ['Yes' 'No' 'No phone service']\n",
      "=============================================\n",
      "Column: InternetService - Unique Values: ['Fiber optic' 'No' 'DSL']\n",
      "=============================================\n",
      "Column: OnlineSecurity - Unique Values: ['No' 'No internet service' 'Yes']\n",
      "=============================================\n",
      "Column: OnlineBackup - Unique Values: ['No' 'No internet service' 'Yes']\n",
      "=============================================\n",
      "Column: DeviceProtection - Unique Values: ['No' 'No internet service' 'Yes']\n",
      "=============================================\n",
      "Column: TechSupport - Unique Values: ['No' 'No internet service' 'Yes']\n",
      "=============================================\n",
      "Column: StreamingTV - Unique Values: ['Yes' 'No internet service' 'No']\n",
      "=============================================\n",
      "Column: StreamingMovies - Unique Values: ['No' 'No internet service' 'Yes']\n",
      "=============================================\n",
      "Column: Contract - Unique Values: ['Month-to-month' 'One year' 'Two year']\n",
      "=============================================\n",
      "Column: PaperlessBilling - Unique Values: ['Yes' 'No']\n",
      "=============================================\n",
      "Column: PaymentMethod - Unique Values: ['Electronic check' 'Mailed check' 'Credit card (automatic)'\n",
      " 'Bank transfer (automatic)']\n",
      "=============================================\n",
      "Column: MonthlyCharges - Unique Values: [ 84.45  20.4   81.7   79.5   89.15  20.3   74.95  74.4   20.    25.\n",
      "  80.45  19.75  65.65  71.    89.2   86.75  55.3   61.5   25.1   55.15\n",
      "  34.05  19.95  89.7   26.3   84.95  20.7   43.25  48.35  79.55  71.05\n",
      "  19.45 110.8   84.5   69.3   49.35  20.35 105.6   64.45 108.6   49.9\n",
      "  30.3   30.4   45.4  103.3   84.15  44.45  85.4   89.9   55.05 104.1\n",
      " 106.6   75.2   70.5   19.6   55.85  24.05  38.1  106.4   34.25 100.05\n",
      "  68.65  45.8   75.75  84.4   96.4   20.55  50.95  90.5   79.4   58.75\n",
      "  59.45 105.7   56.25  53.3   85.55  24.3   77.85  59.9   23.95  20.15\n",
      " 105.35  95.65  87.05  81.    82.45  53.5   20.5   54.4   58.6   84.8\n",
      "  61.4   79.65  94.45  79.8   54.2   74.05  49.15  19.4  113.65 106.\n",
      "  25.95  19.1  103.4  100.55  95.4   75.15 107.9   19.5   85.95  24.95\n",
      "  59.4   69.95  82.85  19.    38.85  30.6   95.    78.45  74.3   51.05\n",
      "  19.2   99.55  70.   109.1   45.3   29.85  76.45  95.1   19.8   72.8\n",
      "  18.95  76.65  99.15 101.75  75.45  64.1   25.65  75.1   95.85  72.75\n",
      "  19.85  19.05  44.95  49.55  94.85  46.25  19.35  69.6   90.7  101.4\n",
      "  20.25  48.8   74.35  68.75 100.2   20.85  95.9   45.    81.5   25.5\n",
      "  48.9   84.1   81.3   95.2   36.45  83.3   25.05  89.85  49.85  54.65\n",
      "  29.35  19.15  55.55  80.55  69.5  104.3   79.6   55.25  88.05 117.6\n",
      "  19.65  70.55  93.85  65.8   20.05  80.    35.4   80.25  50.45  20.45\n",
      "  24.7   77.3   29.75  44.9   29.8   74.65  71.95  20.75  56.3  105.25\n",
      "  94.2   19.55  53.65  29.9   19.7   43.7   49.45 106.55  20.1   39.7\n",
      "  54.5   83.8  111.6   86.65 106.75  62.1  104.5  101.8  110.6   84.9\n",
      "  93.2   24.4   85.    87.45  85.8   91.1   70.75  74.8   24.8  100.85\n",
      " 101.35  68.25 105.1   79.15  57.2   94.8  102.5   69.2   95.45 100.95\n",
      "  88.5   35.    64.    69.1   80.2   49.3   84.35 117.2  103.45  77.95\n",
      " 109.95  94.75  25.2   19.9   44.8   80.05 107.35  47.85  70.8   29.5\n",
      "  59.1   25.55  75.55  85.65  70.15  95.3   70.25  50.3   97.8   46.3\n",
      " 106.3   75.35  89.4   88.    83.15  43.8   62.05  74.15  84.05  20.9\n",
      " 105.9   99.5   44.15  53.9   85.45  85.05  44.1   90.2   50.85  59.2\n",
      "  53.45  83.2   54.9   57.5  103.9   93.8   89.25  94.15  55.6   48.7\n",
      "  19.25 104.9   54.85  19.3   79.85  75.5   73.75  96.05  68.4   20.65\n",
      "  70.6  107.6   61.55  99.25  91.7  100.7   84.3   88.95  86.8   20.95\n",
      "  50.7   53.4  101.9   59.5   87.8   41.9   83.    69.85 109.55  92.15\n",
      "  97.    58.35  50.6   89.5   70.4   69.8   94.3   95.95 101.05 107.75\n",
      "  54.6   71.3   94.7  104.15  90.55  60.8   98.8   98.15  35.35 103.15\n",
      "  81.4   61.45  95.7  104.8   70.95  97.65  35.65  85.25  88.8   55.7\n",
      "  85.2   91.15  83.85  45.9   91.4   91.5   51.3   21.1  104.75 106.15\n",
      "  85.75 100.75  78.55  77.8   83.45  73.25  90.1   29.2   46.6   85.35\n",
      "  54.   104.25  84.75  75.25  24.6   55.5   43.3  109.5   84.85 112.1\n",
      "  95.05  50.35  74.6   74.2   69.   105.2  109.2   45.15 108.65  40.65\n",
      "  55.35  90.05  68.05  96.2  102.1   23.4   92.2   43.9   80.5   89.8\n",
      "  90.45  50.75  84.6   89.65  51.7   23.3   65.4   65.1   81.2   72.9\n",
      "  74.5   60.3   75.    90.15  40.    99.45  69.05  59.7   86.25  45.65\n",
      "  70.1   40.75  70.2   84.2   66.15  45.85  49.8  103.95 100.15  99.65\n",
      "  73.7   50.05  60.25 105.75  87.3   54.25  85.3   50.    90.95  72.25\n",
      "  96.1   25.15  71.25 113.8   24.55  50.15 100.5   74.45  81.9   69.7\n",
      "  25.35  24.65  25.25  60.    24.1  109.9   35.5   87.55  88.4   50.8\n",
      "  99.    96.55  59.75 111.5   24.25  30.55 101.   100.    98.05  71.15\n",
      "  54.15  63.9   69.15  64.65 108.75  98.85  89.6   83.25  24.5   73.\n",
      "  80.4   78.5  102.    48.95  18.25  54.55  89.05  96.6   77.15  35.05\n",
      " 108.1   20.2   49.2   71.65 106.5   94.25  68.95  58.5   78.9   79.2\n",
      " 109.45  29.15  76.05  24.45  66.5   89.35  73.6   82.65  49.    80.35\n",
      "  25.45  55.8  110.9   77.75  26.2   79.05  80.85  98.4   56.35  50.4\n",
      " 109.75  91.25  54.75  81.45  49.1  100.3   65.25  94.1   73.55 104.65\n",
      "  44.55  54.45 105.    88.7   74.25  30.75 112.9   94.05  78.85  78.65\n",
      "  74.75 105.65  96.5   70.85  73.9   45.45 109.65  65.   114.1   86.95\n",
      " 105.45  25.4  102.55  24.    25.6   73.5   98.25 101.55 103.1   34.2\n",
      "  43.75 111.95 100.65  55.95 116.05  45.75  82.    65.15  88.85 106.85\n",
      "  80.15 109.25  56.1  118.6   24.15 115.5  111.3   80.6   20.8   35.2\n",
      "  78.8   89.95  49.4  115.25  81.25  93.55  86.4   66.3   94.65  82.05\n",
      "  72.1   34.7  109.4   40.25  42.9   44.    88.9   57.65 108.05 105.3\n",
      " 102.6   73.85  61.35  57.55  29.25  84.55 111.75 107.7   63.7   24.75\n",
      "  50.9   60.4   79.25 110.1   25.3   24.35  76.5   81.15  38.5   92.9\n",
      "  93.5   84.7   66.   101.5   74.9   99.75  67.8   25.7   56.15  86.7\n",
      "  50.55  54.35  45.35  59.    69.45  64.95  18.85 114.3   45.05  51.\n",
      " 110.45  84.65  60.05  44.65  93.25  20.6   34.8   60.75  51.35  64.05\n",
      "  94.6  100.25  98.9   97.7   40.3   46.2   24.9   65.7   63.35  50.1\n",
      "  74.    38.9   65.45  98.7   99.35  95.8   67.5   78.15  26.1   78.05\n",
      "  40.35  68.9   76.    82.3   29.45  59.15  44.75  90.8  106.7   67.95\n",
      "  77.4   99.7   78.95  95.55  62.85  71.55  94.95  86.1   39.3   36.25\n",
      "  23.9   98.6  103.65  99.9   39.85  60.5  103.85  24.85  89.    55.\n",
      "  76.15 117.35  45.2   89.75  49.95  67.05  87.95  75.7   62.15 101.25\n",
      " 115.15  86.55  28.6   56.4   73.3   98.65  33.6   79.9  104.05  70.05\n",
      "  23.05  59.95  78.6  116.8   43.55  65.2  102.95  90.6  108.2   92.\n",
      " 112.2   70.3   75.85  80.65  68.5  115.75  59.55  36.1   94.    61.15\n",
      " 110.2  106.35  65.9   52.5   88.75  75.3   26.    99.4   73.15  66.4\n",
      " 115.55 104.45  92.4   25.75  49.6   97.05 105.95  91.85  40.1  110.3\n",
      "  85.15  60.95  46.    58.55  86.35  69.75  65.6   82.1   79.1   90.65\n",
      " 110.    67.45  89.1   69.9   51.1   94.4   78.25  76.4   48.65  59.85\n",
      "  80.3   91.8   18.8   64.75  89.45  85.6   54.1   80.9   90.85  48.75\n",
      "  79.7  100.4   57.95  86.5   62.45  89.55  83.55  71.45  46.35  66.1\n",
      "  75.4   70.45  21.05  69.35  40.55  75.65  60.6  101.15  98.   104.7\n",
      "  93.9   86.45  98.5   78.2   88.45  69.55  83.75  98.1   53.35  69.4\n",
      "  40.15  70.35  53.85 115.6   97.95  78.3   96.8   77.35  66.05  68.15\n",
      "  92.45  45.55  93.4   88.15  79.35  79.75 105.15  79.3  105.5   92.7\n",
      "  26.25  96.95 115.8   67.75  90.35  55.75 114.6   66.8  104.85  74.1\n",
      " 118.75  85.9  101.3   21.2   24.2  102.8   99.95 115.85  35.1   99.1\n",
      "  67.25  55.1  117.8   45.25  95.35 116.6   65.05  92.5   18.75  93.6\n",
      " 104.4   70.7  108.95  26.45  86.2   51.2   75.8   36.15  61.2   99.85\n",
      "  58.4   88.3  108.9  107.4  106.65 104.35  55.45  61.3   96.85 108.25\n",
      " 105.05  66.9  110.7   38.25  54.95  79.    39.1  100.45  39.55  23.15\n",
      "  72.45  60.1   91.55  35.8  113.15  53.95  99.3   51.55  78.75  54.7\n",
      "  71.1  106.25 114.05 116.15  66.25  99.8   90.    54.05  97.25  83.05\n",
      "  41.1   74.55  40.2   78.35 109.7   33.45  39.4   76.25  46.4   59.6\n",
      " 108.5   58.95  63.05  64.4   83.9  117.45  59.05  76.55  62.5   29.4\n",
      "  94.9  111.65 106.05 113.45  92.55  49.7   30.2   85.7   74.7  107.55\n",
      "  23.85  76.1   39.2   39.15  59.8   49.75  35.75  60.15  84.   110.75\n",
      "  76.35  18.9   98.35  91.65  44.35  47.95  63.6   53.    36.85 103.75\n",
      "  56.75  59.65  45.5  106.45  30.05  44.7 ]\n",
      "=============================================\n",
      "Column: TotalCharges - Unique Values: [1059.55 181.8 2212.55 ... 552.95 7053.35 301.55]\n",
      "=============================================\n"
     ]
    }
   ],
   "source": [
    "# check unique values of each column\n",
    "for column in test_df.columns:\n",
    "    print('Column: {} - Unique Values: {}'.format(column, test_df[column].unique()))\n",
    "    print('==='*15)"
   ]
  },
  {
   "cell_type": "raw",
   "metadata": {},
   "source": [
    "There are some differences between the unique values in the train_df and test_df datasets:\n",
    "i. 'SeniorCitizen' column: The train_df dataset has boolean values (False and True), while the test_df dataset has numeric values (0 and 1).\n",
    "ii. 'Partner and Dependents' columns: In the train_df dataset, this column contain boolean  (True and False) and string values (Yes and No), while in the test_df dataset, they contain categorical values (Yes and No).\n",
    "\n",
    "iii. 'PhoneService' column: In the train_df dataset, these columns contain boolean  (True and False) and and string values (Yes and No), while in the test_df dataset, it contains categorical values (Yes and No).\n",
    "\n",
    "iv. 'MultipleLines' column: In the train_df dataset, this column contains boolean values (False and True) and string values (No, Yes, No phone service), while in the test_df dataset, it contains categorical values (Yes, No, and No phone service).\n",
    "\n",
    "v. 'OnlineSecurity', 'OnlineBackup', 'DeviceProtection','TechSupport', 'StreamingTV', 'StreamingMovies'  columns: The training data in these columns contains a mix of boolean (True and False)  and string values (No, Yes, No phone service), while the test data only has the string values (No, Yes, No internet service). \n",
    "\n",
    "vi. 'PaperlessBilling' column: The training data has boolean values (True and False) and additional string values ('Yes', 'No') compared to the test data which only has string values ('Yes', 'No').\n",
    "\n",
    "vii. 'PaymentMethod' column: Some values contain in parenthesis the word 'automatic'. These denominations are too long to be used as tick labels in visualizations.\n",
    "\n",
    "viii. 'Churn' column: The train_df dataset has boolean values (False and True) and categorical values (None, No, and Yes) in the 'Churn' column. The test_df dataset does not have a 'Churn' column as explained earlier."
   ]
  },
  {
   "cell_type": "markdown",
   "metadata": {},
   "source": [
    "#### d. The Summary Statistics of The Datasets"
   ]
  },
  {
   "cell_type": "code",
   "execution_count": 20,
   "metadata": {},
   "outputs": [
    {
     "data": {
      "text/html": [
       "<div>\n",
       "<style scoped>\n",
       "    .dataframe tbody tr th:only-of-type {\n",
       "        vertical-align: middle;\n",
       "    }\n",
       "\n",
       "    .dataframe tbody tr th {\n",
       "        vertical-align: top;\n",
       "    }\n",
       "\n",
       "    .dataframe thead th {\n",
       "        text-align: right;\n",
       "    }\n",
       "</style>\n",
       "<table border=\"1\" class=\"dataframe\">\n",
       "  <thead>\n",
       "    <tr style=\"text-align: right;\">\n",
       "      <th></th>\n",
       "      <th>tenure</th>\n",
       "      <th>MonthlyCharges</th>\n",
       "    </tr>\n",
       "  </thead>\n",
       "  <tbody>\n",
       "    <tr>\n",
       "      <th>count</th>\n",
       "      <td>5043.000000</td>\n",
       "      <td>5043.000000</td>\n",
       "    </tr>\n",
       "    <tr>\n",
       "      <th>mean</th>\n",
       "      <td>32.576641</td>\n",
       "      <td>65.090214</td>\n",
       "    </tr>\n",
       "    <tr>\n",
       "      <th>std</th>\n",
       "      <td>24.529807</td>\n",
       "      <td>30.068133</td>\n",
       "    </tr>\n",
       "    <tr>\n",
       "      <th>min</th>\n",
       "      <td>0.000000</td>\n",
       "      <td>18.400000</td>\n",
       "    </tr>\n",
       "    <tr>\n",
       "      <th>25%</th>\n",
       "      <td>9.000000</td>\n",
       "      <td>35.775000</td>\n",
       "    </tr>\n",
       "    <tr>\n",
       "      <th>50%</th>\n",
       "      <td>29.000000</td>\n",
       "      <td>70.550003</td>\n",
       "    </tr>\n",
       "    <tr>\n",
       "      <th>75%</th>\n",
       "      <td>56.000000</td>\n",
       "      <td>90.050003</td>\n",
       "    </tr>\n",
       "    <tr>\n",
       "      <th>max</th>\n",
       "      <td>72.000000</td>\n",
       "      <td>118.650002</td>\n",
       "    </tr>\n",
       "  </tbody>\n",
       "</table>\n",
       "</div>"
      ],
      "text/plain": [
       "            tenure  MonthlyCharges\n",
       "count  5043.000000     5043.000000\n",
       "mean     32.576641       65.090214\n",
       "std      24.529807       30.068133\n",
       "min       0.000000       18.400000\n",
       "25%       9.000000       35.775000\n",
       "50%      29.000000       70.550003\n",
       "75%      56.000000       90.050003\n",
       "max      72.000000      118.650002"
      ]
     },
     "execution_count": 20,
     "metadata": {},
     "output_type": "execute_result"
    }
   ],
   "source": [
    "# Summary statistics of train_db to get insights into the distribution and basic characteristics of the numerical variables\n",
    "train_df.describe()"
   ]
  },
  {
   "cell_type": "raw",
   "metadata": {},
   "source": [
    "Tenure: The customers' tenure (in months) ranges from 0 to 72. The average tenure is approximately 32.6 months, with a standard deviation of 24.5 months. The median (50th percentile) tenure is 29 months.\n",
    "\n",
    "Monthly Charges: The monthly charges range from $18.40 to $118.65. The average monthly charge is approximately $65.09, with a standard deviation of $30.07. The median (50th percentile) monthly charge is $70.55."
   ]
  },
  {
   "cell_type": "code",
   "execution_count": 21,
   "metadata": {},
   "outputs": [
    {
     "data": {
      "text/html": [
       "<div>\n",
       "<style scoped>\n",
       "    .dataframe tbody tr th:only-of-type {\n",
       "        vertical-align: middle;\n",
       "    }\n",
       "\n",
       "    .dataframe tbody tr th {\n",
       "        vertical-align: top;\n",
       "    }\n",
       "\n",
       "    .dataframe thead th {\n",
       "        text-align: right;\n",
       "    }\n",
       "</style>\n",
       "<table border=\"1\" class=\"dataframe\">\n",
       "  <thead>\n",
       "    <tr style=\"text-align: right;\">\n",
       "      <th></th>\n",
       "      <th>SeniorCitizen</th>\n",
       "      <th>tenure</th>\n",
       "      <th>MonthlyCharges</th>\n",
       "    </tr>\n",
       "  </thead>\n",
       "  <tbody>\n",
       "    <tr>\n",
       "      <th>count</th>\n",
       "      <td>2000.000000</td>\n",
       "      <td>2000.000000</td>\n",
       "      <td>2000.000000</td>\n",
       "    </tr>\n",
       "    <tr>\n",
       "      <th>mean</th>\n",
       "      <td>0.161500</td>\n",
       "      <td>31.853000</td>\n",
       "      <td>63.933325</td>\n",
       "    </tr>\n",
       "    <tr>\n",
       "      <th>std</th>\n",
       "      <td>0.368084</td>\n",
       "      <td>24.632677</td>\n",
       "      <td>30.136858</td>\n",
       "    </tr>\n",
       "    <tr>\n",
       "      <th>min</th>\n",
       "      <td>0.000000</td>\n",
       "      <td>0.000000</td>\n",
       "      <td>18.250000</td>\n",
       "    </tr>\n",
       "    <tr>\n",
       "      <th>25%</th>\n",
       "      <td>0.000000</td>\n",
       "      <td>8.000000</td>\n",
       "      <td>34.250000</td>\n",
       "    </tr>\n",
       "    <tr>\n",
       "      <th>50%</th>\n",
       "      <td>0.000000</td>\n",
       "      <td>27.000000</td>\n",
       "      <td>69.800000</td>\n",
       "    </tr>\n",
       "    <tr>\n",
       "      <th>75%</th>\n",
       "      <td>0.000000</td>\n",
       "      <td>55.000000</td>\n",
       "      <td>89.275000</td>\n",
       "    </tr>\n",
       "    <tr>\n",
       "      <th>max</th>\n",
       "      <td>1.000000</td>\n",
       "      <td>72.000000</td>\n",
       "      <td>118.750000</td>\n",
       "    </tr>\n",
       "  </tbody>\n",
       "</table>\n",
       "</div>"
      ],
      "text/plain": [
       "       SeniorCitizen       tenure  MonthlyCharges\n",
       "count    2000.000000  2000.000000     2000.000000\n",
       "mean        0.161500    31.853000       63.933325\n",
       "std         0.368084    24.632677       30.136858\n",
       "min         0.000000     0.000000       18.250000\n",
       "25%         0.000000     8.000000       34.250000\n",
       "50%         0.000000    27.000000       69.800000\n",
       "75%         0.000000    55.000000       89.275000\n",
       "max         1.000000    72.000000      118.750000"
      ]
     },
     "execution_count": 21,
     "metadata": {},
     "output_type": "execute_result"
    }
   ],
   "source": [
    "# Summary statistics of test_df to get insights into the distribution and basic characteristics of the numerical variables\n",
    "test_df.describe()"
   ]
  },
  {
   "cell_type": "raw",
   "metadata": {},
   "source": [
    "Senior Citizen: The proportion of senior citizens in the test dataset is approximately 16.15% (mean of 0.1615). This is indicated by the binary variable \"SeniorCitizen,\" which takes the value 1 for senior citizens and 0 for non-senior citizens.\n",
    "\n",
    "Tenure: The customers' tenure (in months) ranges from 0 to 72, similar to the training dataset. The average tenure is approximately 31.85 months, with a standard deviation of 24.63 months. The median (50th percentile) tenure is 27 months.\n",
    "\n",
    "Monthly Charges: The monthly charges range from $18.25 to $118.75, similar to the training dataset. The average monthly charge is approximately $63.93, with a standard deviation of $30.14. The median (50th percentile) monthly charge is $69.80."
   ]
  },
  {
   "cell_type": "markdown",
   "metadata": {},
   "source": [
    "#### e. Checking for Missing Values in The Datasets"
   ]
  },
  {
   "cell_type": "code",
   "execution_count": 22,
   "metadata": {},
   "outputs": [
    {
     "data": {
      "text/plain": [
       "customerID            0\n",
       "gender                0\n",
       "SeniorCitizen         0\n",
       "Partner               0\n",
       "Dependents            0\n",
       "tenure                0\n",
       "PhoneService          0\n",
       "MultipleLines       269\n",
       "InternetService       0\n",
       "OnlineSecurity      651\n",
       "OnlineBackup        651\n",
       "DeviceProtection    651\n",
       "TechSupport         651\n",
       "StreamingTV         651\n",
       "StreamingMovies     651\n",
       "Contract              0\n",
       "PaperlessBilling      0\n",
       "PaymentMethod         0\n",
       "MonthlyCharges        0\n",
       "TotalCharges          5\n",
       "Churn                 1\n",
       "dtype: int64"
      ]
     },
     "execution_count": 22,
     "metadata": {},
     "output_type": "execute_result"
    }
   ],
   "source": [
    "# Handling missing values\n",
    "train_df.isnull().sum()"
   ]
  },
  {
   "cell_type": "raw",
   "metadata": {},
   "source": [
    "These columns have a varying number of missing values, with 'OnlineSecurity', 'OnlineBackup', 'DeviceProtection', 'TechSupport', 'StreamingTV', and 'StreamingMovies' having the same count of 651 missing values. Additionally, the 'TotalCharges' column has 5 missing values, and the 'Churn' column has 1 missing value."
   ]
  },
  {
   "cell_type": "code",
   "execution_count": 23,
   "metadata": {
    "scrolled": false
   },
   "outputs": [
    {
     "data": {
      "text/plain": [
       "customerID          0\n",
       "gender              0\n",
       "SeniorCitizen       0\n",
       "Partner             0\n",
       "Dependents          0\n",
       "tenure              0\n",
       "PhoneService        0\n",
       "MultipleLines       0\n",
       "InternetService     0\n",
       "OnlineSecurity      0\n",
       "OnlineBackup        0\n",
       "DeviceProtection    0\n",
       "TechSupport         0\n",
       "StreamingTV         0\n",
       "StreamingMovies     0\n",
       "Contract            0\n",
       "PaperlessBilling    0\n",
       "PaymentMethod       0\n",
       "MonthlyCharges      0\n",
       "TotalCharges        0\n",
       "dtype: int64"
      ]
     },
     "execution_count": 23,
     "metadata": {},
     "output_type": "execute_result"
    }
   ],
   "source": [
    "# Handling missing values\n",
    "test_df.isnull().sum()"
   ]
  },
  {
   "cell_type": "raw",
   "metadata": {},
   "source": [
    "The test dataset has no missing values"
   ]
  },
  {
   "cell_type": "markdown",
   "metadata": {},
   "source": [
    "#### f. Checking for Duplicate Values of The Datasets"
   ]
  },
  {
   "cell_type": "code",
   "execution_count": 24,
   "metadata": {},
   "outputs": [
    {
     "data": {
      "text/plain": [
       "0"
      ]
     },
     "execution_count": 24,
     "metadata": {},
     "output_type": "execute_result"
    }
   ],
   "source": [
    "# Checking for duplicates in train_df\n",
    "train_duplicates = train_df.duplicated().sum()\n",
    "train_duplicates"
   ]
  },
  {
   "cell_type": "raw",
   "metadata": {},
   "source": [
    "There are no duplicates in the train dataset"
   ]
  },
  {
   "cell_type": "code",
   "execution_count": 25,
   "metadata": {},
   "outputs": [
    {
     "data": {
      "text/plain": [
       "0"
      ]
     },
     "execution_count": 25,
     "metadata": {},
     "output_type": "execute_result"
    }
   ],
   "source": [
    "# Checking for duplicates in test_df\n",
    "test_duplicates = test_df.duplicated().sum()\n",
    "test_duplicates"
   ]
  },
  {
   "cell_type": "raw",
   "metadata": {},
   "source": [
    "There are no duplicates in both datasets"
   ]
  },
  {
   "cell_type": "markdown",
   "metadata": {},
   "source": [
    "# Data Cleaning"
   ]
  },
  {
   "cell_type": "code",
   "execution_count": 26,
   "metadata": {},
   "outputs": [],
   "source": [
    "# Handling the issues we identified earlier during data exploration"
   ]
  },
  {
   "cell_type": "markdown",
   "metadata": {},
   "source": [
    "## a. Dropping Unwanted Columns"
   ]
  },
  {
   "cell_type": "code",
   "execution_count": 27,
   "metadata": {},
   "outputs": [
    {
     "data": {
      "text/plain": [
       "Index(['gender', 'SeniorCitizen', 'Partner', 'Dependents', 'tenure',\n",
       "       'PhoneService', 'MultipleLines', 'InternetService', 'OnlineSecurity',\n",
       "       'OnlineBackup', 'DeviceProtection', 'TechSupport', 'StreamingTV',\n",
       "       'StreamingMovies', 'Contract', 'PaperlessBilling', 'PaymentMethod',\n",
       "       'MonthlyCharges', 'TotalCharges', 'Churn'],\n",
       "      dtype='object')"
      ]
     },
     "execution_count": 27,
     "metadata": {},
     "output_type": "execute_result"
    }
   ],
   "source": [
    "#The customerID column has no use in explaining whether or not the customer will churn.\n",
    "# drop the customerID column from the train dataset\n",
    "train_df.drop(columns='customerID', inplace=True)\n",
    "train_df.columns"
   ]
  },
  {
   "cell_type": "code",
   "execution_count": 28,
   "metadata": {},
   "outputs": [
    {
     "data": {
      "text/plain": [
       "Index(['gender', 'SeniorCitizen', 'Partner', 'Dependents', 'tenure',\n",
       "       'PhoneService', 'MultipleLines', 'InternetService', 'OnlineSecurity',\n",
       "       'OnlineBackup', 'DeviceProtection', 'TechSupport', 'StreamingTV',\n",
       "       'StreamingMovies', 'Contract', 'PaperlessBilling', 'PaymentMethod',\n",
       "       'MonthlyCharges', 'TotalCharges'],\n",
       "      dtype='object')"
      ]
     },
     "execution_count": 28,
     "metadata": {},
     "output_type": "execute_result"
    }
   ],
   "source": [
    "# drop the customerID column from the train dataset\n",
    "test_df.drop(columns='customerID', inplace=True)\n",
    "test_df.columns"
   ]
  },
  {
   "cell_type": "markdown",
   "metadata": {},
   "source": [
    "## b. Data Transformation"
   ]
  },
  {
   "cell_type": "markdown",
   "metadata": {},
   "source": [
    "### i. Standardizing the 'SeniorCitizen' Column"
   ]
  },
  {
   "cell_type": "code",
   "execution_count": 29,
   "metadata": {},
   "outputs": [],
   "source": [
    "# Standardize 'SeniorCitizen' column\n",
    "train_df['SeniorCitizen'] = train_df['SeniorCitizen'].replace({False: 0, True: 1}).astype(int)\n",
    "\n",
    "# Standardize 'Partner' and 'Dependents' columns\n",
    "train_df['Partner'] = train_df['Partner'].replace({False: 'No', True: 'Yes'})\n",
    "train_df['Dependents'] = train_df['Dependents'].replace({False: 'No', True: 'Yes'})\n",
    "\n",
    "# Standardize 'PhoneService' column\n",
    "train_df['PhoneService'] = train_df['PhoneService'].replace({False: 'No', True: 'Yes'})\n",
    "\n",
    "# Standardize 'MultipleLines' column\n",
    "train_df['MultipleLines'] = train_df['MultipleLines'].replace({False: 'No', True: 'Yes', 'No phone service': 'No', None: 'No'})\n",
    "test_df['MultipleLines'] = test_df['MultipleLines'].replace({False: 'No', True: 'Yes', 'No phone service': 'No', None: 'No'})\n",
    "\n",
    "# Standardize 'OnlineSecurity', 'OnlineBackup', 'DeviceProtection', 'TechSupport', 'StreamingTV', 'StreamingMovies' columns\n",
    "# Train dataset\n",
    "train_df['OnlineSecurity'] = train_df['OnlineSecurity'].replace({False: 'No', True: 'Yes', 'No internet service': 'No', None: 'No' })\n",
    "train_df['OnlineBackup'] = train_df['OnlineBackup'].replace({False: 'No', True: 'Yes', 'No internet service': 'No',  None: 'No'})\n",
    "train_df['DeviceProtection'] = train_df['DeviceProtection'].replace({False: 'No', True: 'Yes', 'No internet service': 'No',  None: 'No'})\n",
    "train_df['TechSupport'] = train_df['TechSupport'].replace({False: 'No', True: 'Yes', 'No internet service': 'No',  None: 'No'})\n",
    "train_df['StreamingTV'] = train_df['StreamingTV'].replace({False: 'No', True: 'Yes', 'No internet service': 'No',  None: 'No'})\n",
    "train_df['StreamingMovies'] = train_df['StreamingMovies'].replace({False: 'No', True: 'Yes', 'No internet service': 'No',  None: 'No'})\n",
    "\n",
    "\n",
    "# Test dataset\n",
    "test_df['OnlineSecurity'] = test_df['OnlineSecurity'].replace({False: 'No', True: 'Yes', 'No internet service': 'No', None: 'No'})\n",
    "test_df['OnlineBackup'] = test_df['OnlineBackup'].replace({False: 'No', True: 'Yes', 'No internet service': 'No', None: 'No'})\n",
    "test_df['DeviceProtection'] = test_df['DeviceProtection'].replace({False: 'No', True: 'Yes', 'No internet service': 'No', None: 'No'})\n",
    "test_df['TechSupport'] = test_df['TechSupport'].replace({False: 'No', True: 'Yes', 'No internet service': 'No', None: 'No'})\n",
    "test_df['StreamingTV'] = test_df['StreamingTV'].replace({False: 'No', True: 'Yes', 'No internet service': 'No', None: 'No'})\n",
    "test_df['StreamingMovies'] = test_df['StreamingMovies'].replace({False: 'No', True: 'Yes', 'No internet service': 'No', None: 'No'})\n",
    "\n",
    "# Standardize 'PaperlessBilling' column\n",
    "train_df['PaperlessBilling'] = train_df['PaperlessBilling'].replace({False: 'No', True: 'Yes'})\n",
    "\n",
    "\n",
    "train_df['Churn'] = train_df['Churn'].replace({'No': False, None: False, 'Yes': True})"
   ]
  },
  {
   "cell_type": "code",
   "execution_count": 30,
   "metadata": {},
   "outputs": [
    {
     "name": "stdout",
     "output_type": "stream",
     "text": [
      "Column: gender - Unique Values: ['Female' 'Male']\n",
      "=============================================\n",
      "Column: SeniorCitizen - Unique Values: [0 1]\n",
      "=============================================\n",
      "Column: Partner - Unique Values: ['Yes' 'No']\n",
      "=============================================\n",
      "Column: Dependents - Unique Values: ['No' 'Yes']\n",
      "=============================================\n",
      "Column: tenure - Unique Values: [ 1 34  2 45  8 22 10 28 62 13 16 58 49 25 69 52 71 21 12 30 47 72 17 27\n",
      "  5 46 11 70 63 43 15 60 18 66  9  3 31 50 64 56  7 42 35 48 29 65 38 68\n",
      " 32 55 37 36 41  6  4 33 67 23 57 61 14 20 53 40 59 24 44 19 54 51 26  0\n",
      " 39]\n",
      "=============================================\n",
      "Column: PhoneService - Unique Values: ['No' 'Yes']\n",
      "=============================================\n",
      "Column: MultipleLines - Unique Values: ['No' 'Yes']\n",
      "=============================================\n",
      "Column: InternetService - Unique Values: ['DSL' 'Fiber optic' 'No']\n",
      "=============================================\n",
      "Column: OnlineSecurity - Unique Values: ['No' 'Yes']\n",
      "=============================================\n",
      "Column: OnlineBackup - Unique Values: ['Yes' 'No']\n",
      "=============================================\n",
      "Column: DeviceProtection - Unique Values: ['No' 'Yes']\n",
      "=============================================\n",
      "Column: TechSupport - Unique Values: ['No' 'Yes']\n",
      "=============================================\n",
      "Column: StreamingTV - Unique Values: ['No' 'Yes']\n",
      "=============================================\n",
      "Column: StreamingMovies - Unique Values: ['No' 'Yes']\n",
      "=============================================\n",
      "Column: Contract - Unique Values: ['Month-to-month' 'One year' 'Two year']\n",
      "=============================================\n",
      "Column: PaperlessBilling - Unique Values: ['Yes' 'No']\n",
      "=============================================\n",
      "Column: PaymentMethod - Unique Values: ['Electronic check' 'Mailed check' 'Bank transfer (automatic)'\n",
      " 'Credit card (automatic)']\n",
      "=============================================\n",
      "Column: MonthlyCharges - Unique Values: [ 29.85000038  56.95000076  53.84999847 ...  78.7         60.65\n",
      " 103.2       ]\n",
      "=============================================\n",
      "Column: TotalCharges - Unique Values: [29.850000381469727 1889.5 108.1500015258789 ... '346.45' '306.6' '6844.5']\n",
      "=============================================\n",
      "Column: Churn - Unique Values: [False  True]\n",
      "=============================================\n"
     ]
    }
   ],
   "source": [
    "# check unique values of each column\n",
    "for column in train_df.columns:\n",
    "    print('Column: {} - Unique Values: {}'.format(column, train_df[column].unique()))\n",
    "    print('==='*15)"
   ]
  },
  {
   "cell_type": "code",
   "execution_count": 31,
   "metadata": {
    "scrolled": false
   },
   "outputs": [
    {
     "name": "stdout",
     "output_type": "stream",
     "text": [
      "Column: gender - Unique Values: ['Male' 'Female']\n",
      "=============================================\n",
      "Column: SeniorCitizen - Unique Values: [0 1]\n",
      "=============================================\n",
      "Column: Partner - Unique Values: ['No' 'Yes']\n",
      "=============================================\n",
      "Column: Dependents - Unique Values: ['No' 'Yes']\n",
      "=============================================\n",
      "Column: tenure - Unique Values: [12  9 27  1 24 14 32 11 38 54 29 44 59  3 18 67 22 33  5  2 72 16  8 23\n",
      " 50 17 68 25 71 46 48 61 37 65 49 64 21 10  6 51 47 52 35 45  4 60 28 39\n",
      " 30 55 58 26 43 56 36 13 70 69 41 15 19 31 34 66 40  7 53 63 42  0 57 62\n",
      " 20]\n",
      "=============================================\n",
      "Column: PhoneService - Unique Values: ['Yes' 'No']\n",
      "=============================================\n",
      "Column: MultipleLines - Unique Values: ['Yes' 'No']\n",
      "=============================================\n",
      "Column: InternetService - Unique Values: ['Fiber optic' 'No' 'DSL']\n",
      "=============================================\n",
      "Column: OnlineSecurity - Unique Values: ['No' 'Yes']\n",
      "=============================================\n",
      "Column: OnlineBackup - Unique Values: ['No' 'Yes']\n",
      "=============================================\n",
      "Column: DeviceProtection - Unique Values: ['No' 'Yes']\n",
      "=============================================\n",
      "Column: TechSupport - Unique Values: ['No' 'Yes']\n",
      "=============================================\n",
      "Column: StreamingTV - Unique Values: ['Yes' 'No']\n",
      "=============================================\n",
      "Column: StreamingMovies - Unique Values: ['No' 'Yes']\n",
      "=============================================\n",
      "Column: Contract - Unique Values: ['Month-to-month' 'One year' 'Two year']\n",
      "=============================================\n",
      "Column: PaperlessBilling - Unique Values: ['Yes' 'No']\n",
      "=============================================\n",
      "Column: PaymentMethod - Unique Values: ['Electronic check' 'Mailed check' 'Credit card (automatic)'\n",
      " 'Bank transfer (automatic)']\n",
      "=============================================\n",
      "Column: MonthlyCharges - Unique Values: [ 84.45  20.4   81.7   79.5   89.15  20.3   74.95  74.4   20.    25.\n",
      "  80.45  19.75  65.65  71.    89.2   86.75  55.3   61.5   25.1   55.15\n",
      "  34.05  19.95  89.7   26.3   84.95  20.7   43.25  48.35  79.55  71.05\n",
      "  19.45 110.8   84.5   69.3   49.35  20.35 105.6   64.45 108.6   49.9\n",
      "  30.3   30.4   45.4  103.3   84.15  44.45  85.4   89.9   55.05 104.1\n",
      " 106.6   75.2   70.5   19.6   55.85  24.05  38.1  106.4   34.25 100.05\n",
      "  68.65  45.8   75.75  84.4   96.4   20.55  50.95  90.5   79.4   58.75\n",
      "  59.45 105.7   56.25  53.3   85.55  24.3   77.85  59.9   23.95  20.15\n",
      " 105.35  95.65  87.05  81.    82.45  53.5   20.5   54.4   58.6   84.8\n",
      "  61.4   79.65  94.45  79.8   54.2   74.05  49.15  19.4  113.65 106.\n",
      "  25.95  19.1  103.4  100.55  95.4   75.15 107.9   19.5   85.95  24.95\n",
      "  59.4   69.95  82.85  19.    38.85  30.6   95.    78.45  74.3   51.05\n",
      "  19.2   99.55  70.   109.1   45.3   29.85  76.45  95.1   19.8   72.8\n",
      "  18.95  76.65  99.15 101.75  75.45  64.1   25.65  75.1   95.85  72.75\n",
      "  19.85  19.05  44.95  49.55  94.85  46.25  19.35  69.6   90.7  101.4\n",
      "  20.25  48.8   74.35  68.75 100.2   20.85  95.9   45.    81.5   25.5\n",
      "  48.9   84.1   81.3   95.2   36.45  83.3   25.05  89.85  49.85  54.65\n",
      "  29.35  19.15  55.55  80.55  69.5  104.3   79.6   55.25  88.05 117.6\n",
      "  19.65  70.55  93.85  65.8   20.05  80.    35.4   80.25  50.45  20.45\n",
      "  24.7   77.3   29.75  44.9   29.8   74.65  71.95  20.75  56.3  105.25\n",
      "  94.2   19.55  53.65  29.9   19.7   43.7   49.45 106.55  20.1   39.7\n",
      "  54.5   83.8  111.6   86.65 106.75  62.1  104.5  101.8  110.6   84.9\n",
      "  93.2   24.4   85.    87.45  85.8   91.1   70.75  74.8   24.8  100.85\n",
      " 101.35  68.25 105.1   79.15  57.2   94.8  102.5   69.2   95.45 100.95\n",
      "  88.5   35.    64.    69.1   80.2   49.3   84.35 117.2  103.45  77.95\n",
      " 109.95  94.75  25.2   19.9   44.8   80.05 107.35  47.85  70.8   29.5\n",
      "  59.1   25.55  75.55  85.65  70.15  95.3   70.25  50.3   97.8   46.3\n",
      " 106.3   75.35  89.4   88.    83.15  43.8   62.05  74.15  84.05  20.9\n",
      " 105.9   99.5   44.15  53.9   85.45  85.05  44.1   90.2   50.85  59.2\n",
      "  53.45  83.2   54.9   57.5  103.9   93.8   89.25  94.15  55.6   48.7\n",
      "  19.25 104.9   54.85  19.3   79.85  75.5   73.75  96.05  68.4   20.65\n",
      "  70.6  107.6   61.55  99.25  91.7  100.7   84.3   88.95  86.8   20.95\n",
      "  50.7   53.4  101.9   59.5   87.8   41.9   83.    69.85 109.55  92.15\n",
      "  97.    58.35  50.6   89.5   70.4   69.8   94.3   95.95 101.05 107.75\n",
      "  54.6   71.3   94.7  104.15  90.55  60.8   98.8   98.15  35.35 103.15\n",
      "  81.4   61.45  95.7  104.8   70.95  97.65  35.65  85.25  88.8   55.7\n",
      "  85.2   91.15  83.85  45.9   91.4   91.5   51.3   21.1  104.75 106.15\n",
      "  85.75 100.75  78.55  77.8   83.45  73.25  90.1   29.2   46.6   85.35\n",
      "  54.   104.25  84.75  75.25  24.6   55.5   43.3  109.5   84.85 112.1\n",
      "  95.05  50.35  74.6   74.2   69.   105.2  109.2   45.15 108.65  40.65\n",
      "  55.35  90.05  68.05  96.2  102.1   23.4   92.2   43.9   80.5   89.8\n",
      "  90.45  50.75  84.6   89.65  51.7   23.3   65.4   65.1   81.2   72.9\n",
      "  74.5   60.3   75.    90.15  40.    99.45  69.05  59.7   86.25  45.65\n",
      "  70.1   40.75  70.2   84.2   66.15  45.85  49.8  103.95 100.15  99.65\n",
      "  73.7   50.05  60.25 105.75  87.3   54.25  85.3   50.    90.95  72.25\n",
      "  96.1   25.15  71.25 113.8   24.55  50.15 100.5   74.45  81.9   69.7\n",
      "  25.35  24.65  25.25  60.    24.1  109.9   35.5   87.55  88.4   50.8\n",
      "  99.    96.55  59.75 111.5   24.25  30.55 101.   100.    98.05  71.15\n",
      "  54.15  63.9   69.15  64.65 108.75  98.85  89.6   83.25  24.5   73.\n",
      "  80.4   78.5  102.    48.95  18.25  54.55  89.05  96.6   77.15  35.05\n",
      " 108.1   20.2   49.2   71.65 106.5   94.25  68.95  58.5   78.9   79.2\n",
      " 109.45  29.15  76.05  24.45  66.5   89.35  73.6   82.65  49.    80.35\n",
      "  25.45  55.8  110.9   77.75  26.2   79.05  80.85  98.4   56.35  50.4\n",
      " 109.75  91.25  54.75  81.45  49.1  100.3   65.25  94.1   73.55 104.65\n",
      "  44.55  54.45 105.    88.7   74.25  30.75 112.9   94.05  78.85  78.65\n",
      "  74.75 105.65  96.5   70.85  73.9   45.45 109.65  65.   114.1   86.95\n",
      " 105.45  25.4  102.55  24.    25.6   73.5   98.25 101.55 103.1   34.2\n",
      "  43.75 111.95 100.65  55.95 116.05  45.75  82.    65.15  88.85 106.85\n",
      "  80.15 109.25  56.1  118.6   24.15 115.5  111.3   80.6   20.8   35.2\n",
      "  78.8   89.95  49.4  115.25  81.25  93.55  86.4   66.3   94.65  82.05\n",
      "  72.1   34.7  109.4   40.25  42.9   44.    88.9   57.65 108.05 105.3\n",
      " 102.6   73.85  61.35  57.55  29.25  84.55 111.75 107.7   63.7   24.75\n",
      "  50.9   60.4   79.25 110.1   25.3   24.35  76.5   81.15  38.5   92.9\n",
      "  93.5   84.7   66.   101.5   74.9   99.75  67.8   25.7   56.15  86.7\n",
      "  50.55  54.35  45.35  59.    69.45  64.95  18.85 114.3   45.05  51.\n",
      " 110.45  84.65  60.05  44.65  93.25  20.6   34.8   60.75  51.35  64.05\n",
      "  94.6  100.25  98.9   97.7   40.3   46.2   24.9   65.7   63.35  50.1\n",
      "  74.    38.9   65.45  98.7   99.35  95.8   67.5   78.15  26.1   78.05\n",
      "  40.35  68.9   76.    82.3   29.45  59.15  44.75  90.8  106.7   67.95\n",
      "  77.4   99.7   78.95  95.55  62.85  71.55  94.95  86.1   39.3   36.25\n",
      "  23.9   98.6  103.65  99.9   39.85  60.5  103.85  24.85  89.    55.\n",
      "  76.15 117.35  45.2   89.75  49.95  67.05  87.95  75.7   62.15 101.25\n",
      " 115.15  86.55  28.6   56.4   73.3   98.65  33.6   79.9  104.05  70.05\n",
      "  23.05  59.95  78.6  116.8   43.55  65.2  102.95  90.6  108.2   92.\n",
      " 112.2   70.3   75.85  80.65  68.5  115.75  59.55  36.1   94.    61.15\n",
      " 110.2  106.35  65.9   52.5   88.75  75.3   26.    99.4   73.15  66.4\n",
      " 115.55 104.45  92.4   25.75  49.6   97.05 105.95  91.85  40.1  110.3\n",
      "  85.15  60.95  46.    58.55  86.35  69.75  65.6   82.1   79.1   90.65\n",
      " 110.    67.45  89.1   69.9   51.1   94.4   78.25  76.4   48.65  59.85\n",
      "  80.3   91.8   18.8   64.75  89.45  85.6   54.1   80.9   90.85  48.75\n",
      "  79.7  100.4   57.95  86.5   62.45  89.55  83.55  71.45  46.35  66.1\n",
      "  75.4   70.45  21.05  69.35  40.55  75.65  60.6  101.15  98.   104.7\n",
      "  93.9   86.45  98.5   78.2   88.45  69.55  83.75  98.1   53.35  69.4\n",
      "  40.15  70.35  53.85 115.6   97.95  78.3   96.8   77.35  66.05  68.15\n",
      "  92.45  45.55  93.4   88.15  79.35  79.75 105.15  79.3  105.5   92.7\n",
      "  26.25  96.95 115.8   67.75  90.35  55.75 114.6   66.8  104.85  74.1\n",
      " 118.75  85.9  101.3   21.2   24.2  102.8   99.95 115.85  35.1   99.1\n",
      "  67.25  55.1  117.8   45.25  95.35 116.6   65.05  92.5   18.75  93.6\n",
      " 104.4   70.7  108.95  26.45  86.2   51.2   75.8   36.15  61.2   99.85\n",
      "  58.4   88.3  108.9  107.4  106.65 104.35  55.45  61.3   96.85 108.25\n",
      " 105.05  66.9  110.7   38.25  54.95  79.    39.1  100.45  39.55  23.15\n",
      "  72.45  60.1   91.55  35.8  113.15  53.95  99.3   51.55  78.75  54.7\n",
      "  71.1  106.25 114.05 116.15  66.25  99.8   90.    54.05  97.25  83.05\n",
      "  41.1   74.55  40.2   78.35 109.7   33.45  39.4   76.25  46.4   59.6\n",
      " 108.5   58.95  63.05  64.4   83.9  117.45  59.05  76.55  62.5   29.4\n",
      "  94.9  111.65 106.05 113.45  92.55  49.7   30.2   85.7   74.7  107.55\n",
      "  23.85  76.1   39.2   39.15  59.8   49.75  35.75  60.15  84.   110.75\n",
      "  76.35  18.9   98.35  91.65  44.35  47.95  63.6   53.    36.85 103.75\n",
      "  56.75  59.65  45.5  106.45  30.05  44.7 ]\n",
      "=============================================\n",
      "Column: TotalCharges - Unique Values: [1059.55 181.8 2212.55 ... 552.95 7053.35 301.55]\n",
      "=============================================\n"
     ]
    }
   ],
   "source": [
    "# check unique values of each column\n",
    "for column in test_df.columns:\n",
    "    print('Column: {} - Unique Values: {}'.format(column, test_df[column].unique()))\n",
    "    print('==='*15)"
   ]
  },
  {
   "cell_type": "markdown",
   "metadata": {},
   "source": [
    "### i. Removing 'automatic' from Payment Method names"
   ]
  },
  {
   "cell_type": "code",
   "execution_count": 32,
   "metadata": {},
   "outputs": [
    {
     "data": {
      "text/plain": [
       "array(['Electronic check', 'Mailed check', 'Bank transfer', 'Credit card'],\n",
       "      dtype=object)"
      ]
     },
     "execution_count": 32,
     "metadata": {},
     "output_type": "execute_result"
    }
   ],
   "source": [
    "# Remove 'automatic' from payment method names in the train dataset\n",
    "train_df['PaymentMethod'] = train_df['PaymentMethod'].str.replace(' (automatic)', '', regex=False)\n",
    "\n",
    "# Unique elements of the 'PaymentMethod' column after the modification \n",
    "train_df['PaymentMethod'].unique()"
   ]
  },
  {
   "cell_type": "code",
   "execution_count": 33,
   "metadata": {},
   "outputs": [
    {
     "data": {
      "text/plain": [
       "array(['Electronic check', 'Mailed check', 'Credit card', 'Bank transfer'],\n",
       "      dtype=object)"
      ]
     },
     "execution_count": 33,
     "metadata": {},
     "output_type": "execute_result"
    }
   ],
   "source": [
    "# Remove 'automatic' from payment method names in the test dataset\n",
    "test_df['PaymentMethod'] = test_df['PaymentMethod'].str.replace(' (automatic)', '', regex=False)\n",
    "\n",
    "# Unique elements of the 'PaymentMethod' column after the modification \n",
    "test_df['PaymentMethod'].unique()"
   ]
  },
  {
   "cell_type": "markdown",
   "metadata": {},
   "source": [
    "### ii. Transforming the 'TotalCharges' column into a numeric data type"
   ]
  },
  {
   "cell_type": "code",
   "execution_count": 34,
   "metadata": {},
   "outputs": [
    {
     "data": {
      "text/plain": [
       "dtype('float64')"
      ]
     },
     "execution_count": 34,
     "metadata": {},
     "output_type": "execute_result"
    }
   ],
   "source": [
    "# Transform the 'TotalCharges' column in the train dataset into a numeric data type\n",
    "train_df['TotalCharges'] = pd.to_numeric(train_df['TotalCharges'], errors='coerce')\n",
    "\n",
    "#confirm the datatype\n",
    "train_df['TotalCharges'].dtype"
   ]
  },
  {
   "cell_type": "code",
   "execution_count": 35,
   "metadata": {},
   "outputs": [
    {
     "data": {
      "text/plain": [
       "8"
      ]
     },
     "execution_count": 35,
     "metadata": {},
     "output_type": "execute_result"
    }
   ],
   "source": [
    "# Check for null values the column\n",
    "train_df['TotalCharges'].isnull().sum()"
   ]
  },
  {
   "cell_type": "code",
   "execution_count": 36,
   "metadata": {},
   "outputs": [
    {
     "data": {
      "text/html": [
       "<div>\n",
       "<style scoped>\n",
       "    .dataframe tbody tr th:only-of-type {\n",
       "        vertical-align: middle;\n",
       "    }\n",
       "\n",
       "    .dataframe tbody tr th {\n",
       "        vertical-align: top;\n",
       "    }\n",
       "\n",
       "    .dataframe thead th {\n",
       "        text-align: right;\n",
       "    }\n",
       "</style>\n",
       "<table border=\"1\" class=\"dataframe\">\n",
       "  <thead>\n",
       "    <tr style=\"text-align: right;\">\n",
       "      <th></th>\n",
       "      <th>gender</th>\n",
       "      <th>SeniorCitizen</th>\n",
       "      <th>Partner</th>\n",
       "      <th>Dependents</th>\n",
       "      <th>tenure</th>\n",
       "      <th>PhoneService</th>\n",
       "      <th>MultipleLines</th>\n",
       "      <th>InternetService</th>\n",
       "      <th>OnlineSecurity</th>\n",
       "      <th>OnlineBackup</th>\n",
       "      <th>DeviceProtection</th>\n",
       "      <th>TechSupport</th>\n",
       "      <th>StreamingTV</th>\n",
       "      <th>StreamingMovies</th>\n",
       "      <th>Contract</th>\n",
       "      <th>PaperlessBilling</th>\n",
       "      <th>PaymentMethod</th>\n",
       "      <th>MonthlyCharges</th>\n",
       "      <th>TotalCharges</th>\n",
       "      <th>Churn</th>\n",
       "    </tr>\n",
       "  </thead>\n",
       "  <tbody>\n",
       "    <tr>\n",
       "      <th>488</th>\n",
       "      <td>Female</td>\n",
       "      <td>0</td>\n",
       "      <td>Yes</td>\n",
       "      <td>Yes</td>\n",
       "      <td>0</td>\n",
       "      <td>No</td>\n",
       "      <td>No</td>\n",
       "      <td>DSL</td>\n",
       "      <td>Yes</td>\n",
       "      <td>No</td>\n",
       "      <td>Yes</td>\n",
       "      <td>Yes</td>\n",
       "      <td>Yes</td>\n",
       "      <td>No</td>\n",
       "      <td>Two year</td>\n",
       "      <td>Yes</td>\n",
       "      <td>Bank transfer</td>\n",
       "      <td>52.549999</td>\n",
       "      <td>NaN</td>\n",
       "      <td>False</td>\n",
       "    </tr>\n",
       "    <tr>\n",
       "      <th>753</th>\n",
       "      <td>Male</td>\n",
       "      <td>0</td>\n",
       "      <td>No</td>\n",
       "      <td>Yes</td>\n",
       "      <td>0</td>\n",
       "      <td>Yes</td>\n",
       "      <td>No</td>\n",
       "      <td>No</td>\n",
       "      <td>No</td>\n",
       "      <td>No</td>\n",
       "      <td>No</td>\n",
       "      <td>No</td>\n",
       "      <td>No</td>\n",
       "      <td>No</td>\n",
       "      <td>Two year</td>\n",
       "      <td>No</td>\n",
       "      <td>Mailed check</td>\n",
       "      <td>20.250000</td>\n",
       "      <td>NaN</td>\n",
       "      <td>False</td>\n",
       "    </tr>\n",
       "    <tr>\n",
       "      <th>936</th>\n",
       "      <td>Female</td>\n",
       "      <td>0</td>\n",
       "      <td>Yes</td>\n",
       "      <td>Yes</td>\n",
       "      <td>0</td>\n",
       "      <td>Yes</td>\n",
       "      <td>No</td>\n",
       "      <td>DSL</td>\n",
       "      <td>Yes</td>\n",
       "      <td>Yes</td>\n",
       "      <td>Yes</td>\n",
       "      <td>No</td>\n",
       "      <td>Yes</td>\n",
       "      <td>Yes</td>\n",
       "      <td>Two year</td>\n",
       "      <td>No</td>\n",
       "      <td>Mailed check</td>\n",
       "      <td>80.849998</td>\n",
       "      <td>NaN</td>\n",
       "      <td>False</td>\n",
       "    </tr>\n",
       "    <tr>\n",
       "      <th>1082</th>\n",
       "      <td>Male</td>\n",
       "      <td>0</td>\n",
       "      <td>Yes</td>\n",
       "      <td>Yes</td>\n",
       "      <td>0</td>\n",
       "      <td>Yes</td>\n",
       "      <td>Yes</td>\n",
       "      <td>No</td>\n",
       "      <td>No</td>\n",
       "      <td>No</td>\n",
       "      <td>No</td>\n",
       "      <td>No</td>\n",
       "      <td>No</td>\n",
       "      <td>No</td>\n",
       "      <td>Two year</td>\n",
       "      <td>No</td>\n",
       "      <td>Mailed check</td>\n",
       "      <td>25.750000</td>\n",
       "      <td>NaN</td>\n",
       "      <td>False</td>\n",
       "    </tr>\n",
       "    <tr>\n",
       "      <th>1340</th>\n",
       "      <td>Female</td>\n",
       "      <td>0</td>\n",
       "      <td>Yes</td>\n",
       "      <td>Yes</td>\n",
       "      <td>0</td>\n",
       "      <td>No</td>\n",
       "      <td>No</td>\n",
       "      <td>DSL</td>\n",
       "      <td>Yes</td>\n",
       "      <td>Yes</td>\n",
       "      <td>Yes</td>\n",
       "      <td>Yes</td>\n",
       "      <td>Yes</td>\n",
       "      <td>No</td>\n",
       "      <td>Two year</td>\n",
       "      <td>No</td>\n",
       "      <td>Credit card</td>\n",
       "      <td>56.049999</td>\n",
       "      <td>NaN</td>\n",
       "      <td>False</td>\n",
       "    </tr>\n",
       "    <tr>\n",
       "      <th>218</th>\n",
       "      <td>Male</td>\n",
       "      <td>0</td>\n",
       "      <td>Yes</td>\n",
       "      <td>Yes</td>\n",
       "      <td>0</td>\n",
       "      <td>Yes</td>\n",
       "      <td>No</td>\n",
       "      <td>No</td>\n",
       "      <td>No</td>\n",
       "      <td>No</td>\n",
       "      <td>No</td>\n",
       "      <td>No</td>\n",
       "      <td>No</td>\n",
       "      <td>No</td>\n",
       "      <td>One year</td>\n",
       "      <td>Yes</td>\n",
       "      <td>Mailed check</td>\n",
       "      <td>19.700000</td>\n",
       "      <td>NaN</td>\n",
       "      <td>False</td>\n",
       "    </tr>\n",
       "    <tr>\n",
       "      <th>1670</th>\n",
       "      <td>Female</td>\n",
       "      <td>0</td>\n",
       "      <td>Yes</td>\n",
       "      <td>Yes</td>\n",
       "      <td>0</td>\n",
       "      <td>Yes</td>\n",
       "      <td>Yes</td>\n",
       "      <td>DSL</td>\n",
       "      <td>No</td>\n",
       "      <td>Yes</td>\n",
       "      <td>Yes</td>\n",
       "      <td>Yes</td>\n",
       "      <td>Yes</td>\n",
       "      <td>No</td>\n",
       "      <td>Two year</td>\n",
       "      <td>No</td>\n",
       "      <td>Mailed check</td>\n",
       "      <td>73.350000</td>\n",
       "      <td>NaN</td>\n",
       "      <td>False</td>\n",
       "    </tr>\n",
       "    <tr>\n",
       "      <th>1754</th>\n",
       "      <td>Male</td>\n",
       "      <td>0</td>\n",
       "      <td>No</td>\n",
       "      <td>Yes</td>\n",
       "      <td>0</td>\n",
       "      <td>Yes</td>\n",
       "      <td>Yes</td>\n",
       "      <td>DSL</td>\n",
       "      <td>Yes</td>\n",
       "      <td>Yes</td>\n",
       "      <td>No</td>\n",
       "      <td>Yes</td>\n",
       "      <td>No</td>\n",
       "      <td>No</td>\n",
       "      <td>Two year</td>\n",
       "      <td>Yes</td>\n",
       "      <td>Bank transfer</td>\n",
       "      <td>61.900000</td>\n",
       "      <td>NaN</td>\n",
       "      <td>False</td>\n",
       "    </tr>\n",
       "  </tbody>\n",
       "</table>\n",
       "</div>"
      ],
      "text/plain": [
       "      gender  SeniorCitizen Partner Dependents  tenure PhoneService  \\\n",
       "488   Female              0     Yes        Yes       0           No   \n",
       "753     Male              0      No        Yes       0          Yes   \n",
       "936   Female              0     Yes        Yes       0          Yes   \n",
       "1082    Male              0     Yes        Yes       0          Yes   \n",
       "1340  Female              0     Yes        Yes       0           No   \n",
       "218     Male              0     Yes        Yes       0          Yes   \n",
       "1670  Female              0     Yes        Yes       0          Yes   \n",
       "1754    Male              0      No        Yes       0          Yes   \n",
       "\n",
       "     MultipleLines InternetService OnlineSecurity OnlineBackup  \\\n",
       "488             No             DSL            Yes           No   \n",
       "753             No              No             No           No   \n",
       "936             No             DSL            Yes          Yes   \n",
       "1082           Yes              No             No           No   \n",
       "1340            No             DSL            Yes          Yes   \n",
       "218             No              No             No           No   \n",
       "1670           Yes             DSL             No          Yes   \n",
       "1754           Yes             DSL            Yes          Yes   \n",
       "\n",
       "     DeviceProtection TechSupport StreamingTV StreamingMovies  Contract  \\\n",
       "488               Yes         Yes         Yes              No  Two year   \n",
       "753                No          No          No              No  Two year   \n",
       "936               Yes          No         Yes             Yes  Two year   \n",
       "1082               No          No          No              No  Two year   \n",
       "1340              Yes         Yes         Yes              No  Two year   \n",
       "218                No          No          No              No  One year   \n",
       "1670              Yes         Yes         Yes              No  Two year   \n",
       "1754               No         Yes          No              No  Two year   \n",
       "\n",
       "     PaperlessBilling  PaymentMethod  MonthlyCharges  TotalCharges  Churn  \n",
       "488               Yes  Bank transfer       52.549999           NaN  False  \n",
       "753                No   Mailed check       20.250000           NaN  False  \n",
       "936                No   Mailed check       80.849998           NaN  False  \n",
       "1082               No   Mailed check       25.750000           NaN  False  \n",
       "1340               No    Credit card       56.049999           NaN  False  \n",
       "218               Yes   Mailed check       19.700000           NaN  False  \n",
       "1670               No   Mailed check       73.350000           NaN  False  \n",
       "1754              Yes  Bank transfer       61.900000           NaN  False  "
      ]
     },
     "execution_count": 36,
     "metadata": {},
     "output_type": "execute_result"
    }
   ],
   "source": [
    "# Null observations of the column\n",
    "train_df[train_df['TotalCharges'].isnull()]"
   ]
  },
  {
   "cell_type": "code",
   "execution_count": 37,
   "metadata": {},
   "outputs": [
    {
     "data": {
      "text/plain": [
       "dtype('float64')"
      ]
     },
     "execution_count": 37,
     "metadata": {},
     "output_type": "execute_result"
    }
   ],
   "source": [
    "# Transform the 'TotalCharges' column in the test dataset into a numeric data type\n",
    "test_df['TotalCharges'] = pd.to_numeric(test_df['TotalCharges'], errors='coerce')\n",
    "\n",
    "#confirm the datatype\n",
    "test_df['TotalCharges'].dtype"
   ]
  },
  {
   "cell_type": "code",
   "execution_count": 38,
   "metadata": {},
   "outputs": [
    {
     "data": {
      "text/plain": [
       "3"
      ]
     },
     "execution_count": 38,
     "metadata": {},
     "output_type": "execute_result"
    }
   ],
   "source": [
    "# Check for null values the  column\n",
    "test_df['TotalCharges'].isnull().sum()"
   ]
  },
  {
   "cell_type": "code",
   "execution_count": 39,
   "metadata": {},
   "outputs": [
    {
     "data": {
      "text/html": [
       "<div>\n",
       "<style scoped>\n",
       "    .dataframe tbody tr th:only-of-type {\n",
       "        vertical-align: middle;\n",
       "    }\n",
       "\n",
       "    .dataframe tbody tr th {\n",
       "        vertical-align: top;\n",
       "    }\n",
       "\n",
       "    .dataframe thead th {\n",
       "        text-align: right;\n",
       "    }\n",
       "</style>\n",
       "<table border=\"1\" class=\"dataframe\">\n",
       "  <thead>\n",
       "    <tr style=\"text-align: right;\">\n",
       "      <th></th>\n",
       "      <th>gender</th>\n",
       "      <th>SeniorCitizen</th>\n",
       "      <th>Partner</th>\n",
       "      <th>Dependents</th>\n",
       "      <th>tenure</th>\n",
       "      <th>PhoneService</th>\n",
       "      <th>MultipleLines</th>\n",
       "      <th>InternetService</th>\n",
       "      <th>OnlineSecurity</th>\n",
       "      <th>OnlineBackup</th>\n",
       "      <th>DeviceProtection</th>\n",
       "      <th>TechSupport</th>\n",
       "      <th>StreamingTV</th>\n",
       "      <th>StreamingMovies</th>\n",
       "      <th>Contract</th>\n",
       "      <th>PaperlessBilling</th>\n",
       "      <th>PaymentMethod</th>\n",
       "      <th>MonthlyCharges</th>\n",
       "      <th>TotalCharges</th>\n",
       "    </tr>\n",
       "  </thead>\n",
       "  <tbody>\n",
       "    <tr>\n",
       "      <th>331</th>\n",
       "      <td>Male</td>\n",
       "      <td>0</td>\n",
       "      <td>Yes</td>\n",
       "      <td>Yes</td>\n",
       "      <td>0</td>\n",
       "      <td>Yes</td>\n",
       "      <td>No</td>\n",
       "      <td>No</td>\n",
       "      <td>No</td>\n",
       "      <td>No</td>\n",
       "      <td>No</td>\n",
       "      <td>No</td>\n",
       "      <td>No</td>\n",
       "      <td>No</td>\n",
       "      <td>Two year</td>\n",
       "      <td>No</td>\n",
       "      <td>Mailed check</td>\n",
       "      <td>19.85</td>\n",
       "      <td>NaN</td>\n",
       "    </tr>\n",
       "    <tr>\n",
       "      <th>826</th>\n",
       "      <td>Male</td>\n",
       "      <td>0</td>\n",
       "      <td>Yes</td>\n",
       "      <td>Yes</td>\n",
       "      <td>0</td>\n",
       "      <td>Yes</td>\n",
       "      <td>Yes</td>\n",
       "      <td>No</td>\n",
       "      <td>No</td>\n",
       "      <td>No</td>\n",
       "      <td>No</td>\n",
       "      <td>No</td>\n",
       "      <td>No</td>\n",
       "      <td>No</td>\n",
       "      <td>Two year</td>\n",
       "      <td>No</td>\n",
       "      <td>Mailed check</td>\n",
       "      <td>25.35</td>\n",
       "      <td>NaN</td>\n",
       "    </tr>\n",
       "    <tr>\n",
       "      <th>1380</th>\n",
       "      <td>Female</td>\n",
       "      <td>0</td>\n",
       "      <td>Yes</td>\n",
       "      <td>Yes</td>\n",
       "      <td>0</td>\n",
       "      <td>Yes</td>\n",
       "      <td>No</td>\n",
       "      <td>No</td>\n",
       "      <td>No</td>\n",
       "      <td>No</td>\n",
       "      <td>No</td>\n",
       "      <td>No</td>\n",
       "      <td>No</td>\n",
       "      <td>No</td>\n",
       "      <td>Two year</td>\n",
       "      <td>No</td>\n",
       "      <td>Mailed check</td>\n",
       "      <td>20.00</td>\n",
       "      <td>NaN</td>\n",
       "    </tr>\n",
       "  </tbody>\n",
       "</table>\n",
       "</div>"
      ],
      "text/plain": [
       "      gender  SeniorCitizen Partner Dependents  tenure PhoneService  \\\n",
       "331     Male              0     Yes        Yes       0          Yes   \n",
       "826     Male              0     Yes        Yes       0          Yes   \n",
       "1380  Female              0     Yes        Yes       0          Yes   \n",
       "\n",
       "     MultipleLines InternetService OnlineSecurity OnlineBackup  \\\n",
       "331             No              No             No           No   \n",
       "826            Yes              No             No           No   \n",
       "1380            No              No             No           No   \n",
       "\n",
       "     DeviceProtection TechSupport StreamingTV StreamingMovies  Contract  \\\n",
       "331                No          No          No              No  Two year   \n",
       "826                No          No          No              No  Two year   \n",
       "1380               No          No          No              No  Two year   \n",
       "\n",
       "     PaperlessBilling PaymentMethod  MonthlyCharges  TotalCharges  \n",
       "331                No  Mailed check           19.85           NaN  \n",
       "826                No  Mailed check           25.35           NaN  \n",
       "1380               No  Mailed check           20.00           NaN  "
      ]
     },
     "execution_count": 39,
     "metadata": {},
     "output_type": "execute_result"
    }
   ],
   "source": [
    "# Null observations of the column\n",
    "test_df[test_df['TotalCharges'].isnull()]"
   ]
  },
  {
   "cell_type": "raw",
   "metadata": {},
   "source": [
    "The 'TotalCharges' column in both the train and test datasets has been transformed into a numeric data type (float64) using the pd.to_numeric() function. \n",
    "\n",
    "The train dataset has 8 null values, while the test dataset has 3 null values in the 'TotalCharges' column.\n",
    "\n",
    "The null observations also have a tenure of 0 even though MontlyCharges is not null for these entries. This information appears to be contradictory so these observations should be dropped from the dataset"
   ]
  },
  {
   "cell_type": "code",
   "execution_count": 40,
   "metadata": {},
   "outputs": [],
   "source": [
    "# Drop observations with null values in 'TotalCharges' column from train dataset\n",
    "train_df = train_df.dropna(subset=['TotalCharges'])"
   ]
  },
  {
   "cell_type": "code",
   "execution_count": 41,
   "metadata": {},
   "outputs": [],
   "source": [
    "# Drop observations with null values in 'TotalCharges' column from test dataset\n",
    "test_df = test_df.dropna(subset=['TotalCharges'])"
   ]
  },
  {
   "cell_type": "markdown",
   "metadata": {},
   "source": [
    "# Univariate Analysis"
   ]
  },
  {
   "cell_type": "code",
   "execution_count": 42,
   "metadata": {},
   "outputs": [
    {
     "data": {
      "text/plain": [
       "False    0.734657\n",
       "True     0.265343\n",
       "Name: Churn, dtype: float64"
      ]
     },
     "execution_count": 42,
     "metadata": {},
     "output_type": "execute_result"
    }
   ],
   "source": [
    "# Calculate the normalized value counts of 'Churn' in the training dataset\n",
    "train_df['Churn'].value_counts(normalize=True)"
   ]
  },
  {
   "cell_type": "code",
   "execution_count": 43,
   "metadata": {},
   "outputs": [
    {
     "data": {
      "image/png": "[encoded data removed]",
      "text/plain": [
       "<Figure size 800x600 with 1 Axes>"
      ]
     },
     "metadata": {},
     "output_type": "display_data"
    }
   ],
   "source": [
    "# Create a countplot to visualize the distribution of 'Churn' in the training dataset\n",
    "plt.figure(figsize=(8, 6))\n",
    "ax = sns.countplot(x='Churn', data=train_df, palette='viridis') \n",
    "plt.xlabel('Churn') \n",
    "plt.ylabel('Count') \n",
    "plt.title('Churn Count') \n",
    "\n",
    "# Calculate the percentages\n",
    "total = len(train_df['Churn'])\n",
    "for p in ax.patches:\n",
    "    height = p.get_height()\n",
    "    percentage = (height / total) * 100\n",
    "    ax.annotate(f'{percentage:.2f}%', (p.get_x() + p.get_width() / 2, height),\n",
    "                ha='center', va='bottom')\n",
    "plt.show()"
   ]
  },
  {
   "cell_type": "markdown",
   "metadata": {},
   "source": [
    "Approximately 26.53% of the total customers have churned."
   ]
  },
  {
   "cell_type": "code",
   "execution_count": 44,
   "metadata": {},
   "outputs": [
    {
     "data": {
      "image/png": "[encoded data removed]",
      "text/plain": [
       "<Figure size 640x480 with 1 Axes>"
      ]
     },
     "metadata": {},
     "output_type": "display_data"
    }
   ],
   "source": [
    "sns.countplot(x='PaymentMethod',  data=train_df, palette='viridis') \n",
    "plt.xlabel('Payment Methods')\n",
    "plt.ylabel('proportion of observations')\n",
    "plt.show()"
   ]
  },
  {
   "cell_type": "raw",
   "metadata": {},
   "source": [
    "Most of the customers prefer electronic check"
   ]
  },
  {
   "cell_type": "code",
   "execution_count": 45,
   "metadata": {},
   "outputs": [
    {
     "data": {
      "image/png": "[encoded data removed]",
      "text/plain": [
       "<Figure size 640x480 with 1 Axes>"
      ]
     },
     "metadata": {},
     "output_type": "display_data"
    }
   ],
   "source": [
    "sns.countplot(x='MultipleLines',  data=train_df, palette='viridis') \n",
    "plt.xlabel('Multiple Lines')\n",
    "plt.ylabel('proportion of observations')\n",
    "plt.show()"
   ]
  },
  {
   "cell_type": "raw",
   "metadata": {},
   "source": [
    "Most of customers have single lines"
   ]
  },
  {
   "cell_type": "code",
   "execution_count": 46,
   "metadata": {},
   "outputs": [
    {
     "data": {
      "image/png": "[encoded data removed]",
      "text/plain": [
       "<Figure size 640x480 with 1 Axes>"
      ]
     },
     "metadata": {},
     "output_type": "display_data"
    }
   ],
   "source": [
    "sns.countplot(x='SeniorCitizen',  data=train_df, palette='viridis') \n",
    "plt.xlabel('SeniorCitizen')\n",
    "plt.ylabel('proportion of observations')\n",
    "plt.show()"
   ]
  },
  {
   "cell_type": "raw",
   "metadata": {},
   "source": [
    "Most of the customers are not senior citizens"
   ]
  },
  {
   "cell_type": "code",
   "execution_count": 47,
   "metadata": {},
   "outputs": [
    {
     "data": {
      "image/png": "[encoded data removed]",
      "text/plain": [
       "<Figure size 800x600 with 1 Axes>"
      ]
     },
     "metadata": {},
     "output_type": "display_data"
    }
   ],
   "source": [
    "plt.figure(figsize=(8, 6))\n",
    "sns.countplot(x='InternetService', data=train_df, palette='viridis')\n",
    "plt.xlabel('Internet Service')\n",
    "plt.ylabel('Count')\n",
    "plt.title('Distribution of Internet Service Types')\n",
    "plt.show()"
   ]
  },
  {
   "cell_type": "raw",
   "metadata": {},
   "source": [
    "The majority of customers have fiber optic as their internet service type, followed by DSL. A smaller proportion of customers have no internet service."
   ]
  },
  {
   "cell_type": "code",
   "execution_count": 48,
   "metadata": {},
   "outputs": [
    {
     "data": {
      "image/png": "[encoded data removed]",
      "text/plain": [
       "<Figure size 1200x1000 with 6 Axes>"
      ]
     },
     "metadata": {},
     "output_type": "display_data"
    }
   ],
   "source": [
    "# Distributiom of online services\n",
    "services = ['OnlineSecurity', 'OnlineBackup', 'DeviceProtection', 'TechSupport', 'StreamingTV', 'StreamingMovies']\n",
    "plt.figure(figsize=(12, 10))\n",
    "for i, service in enumerate(services):\n",
    "    plt.subplot(3, 2, i+1)\n",
    "    sns.countplot(x=service, data=train_df, palette='viridis')\n",
    "    plt.xlabel(service)\n",
    "    plt.ylabel('Count')\n",
    "plt.suptitle('Distribution of Online Services')\n",
    "plt.tight_layout()\n",
    "plt.show()"
   ]
  },
  {
   "cell_type": "raw",
   "metadata": {},
   "source": [
    "The distribution of online services shows that most customers do not have online security, online backup, device protection, tech support, and streaming TV/movies. There is a significant portion of customers who do not use these services."
   ]
  },
  {
   "cell_type": "code",
   "execution_count": 49,
   "metadata": {},
   "outputs": [
    {
     "data": {
      "image/png": "[encoded data removed]",
      "text/plain": [
       "<Figure size 800x600 with 1 Axes>"
      ]
     },
     "metadata": {},
     "output_type": "display_data"
    }
   ],
   "source": [
    "plt.figure(figsize=(8, 6))\n",
    "sns.countplot(x='gender', data=train_df, palette='viridis')\n",
    "plt.xlabel('Gender')\n",
    "plt.ylabel('Count')\n",
    "plt.title('Distribution of Customers by Gender')\n",
    "plt.show()"
   ]
  },
  {
   "cell_type": "raw",
   "metadata": {},
   "source": [
    "The distribution of customers by gender is relatively balanced, with a slightly higher number of male customers compared to female customers."
   ]
  },
  {
   "cell_type": "code",
   "execution_count": 50,
   "metadata": {},
   "outputs": [
    {
     "data": {
      "image/png": "[encoded data removed]",
      "text/plain": [
       "<Figure size 800x600 with 1 Axes>"
      ]
     },
     "metadata": {},
     "output_type": "display_data"
    }
   ],
   "source": [
    "plt.figure(figsize=(8, 6))\n",
    "sns.countplot(x='Partner', data=train_df, palette='viridis')\n",
    "plt.xlabel('Partner')\n",
    "plt.ylabel('Count')\n",
    "plt.title('Distribution of Customers by Partner')\n",
    "plt.show()"
   ]
  },
  {
   "cell_type": "markdown",
   "metadata": {},
   "source": [
    "The majority of customers do not have a partner, while a smaller proportion of customers have a partner."
   ]
  },
  {
   "cell_type": "code",
   "execution_count": 51,
   "metadata": {},
   "outputs": [
    {
     "data": {
      "image/png": "[encoded data removed]",
      "text/plain": [
       "<Figure size 800x600 with 1 Axes>"
      ]
     },
     "metadata": {},
     "output_type": "display_data"
    }
   ],
   "source": [
    "plt.figure(figsize=(8, 6))\n",
    "sns.histplot(train_df['tenure'], kde=True)\n",
    "plt.xlabel('Tenure')\n",
    "plt.ylabel('Frequency')\n",
    "plt.title('Distribution of Customer Tenure')\n",
    "plt.show()"
   ]
  },
  {
   "cell_type": "raw",
   "metadata": {},
   "source": [
    "The distribution of customer tenure is right-skewed, with a large number of customers having lower tenure values. There is a gradual decrease in the frequency as the tenure increases."
   ]
  },
  {
   "cell_type": "code",
   "execution_count": 52,
   "metadata": {},
   "outputs": [
    {
     "data": {
      "image/png": "[encoded data removed]",
      "text/plain": [
       "<Figure size 800x600 with 1 Axes>"
      ]
     },
     "metadata": {},
     "output_type": "display_data"
    }
   ],
   "source": [
    "# A histogram for the distribution of monthly charges\n",
    "plt.figure(figsize=(8, 6))\n",
    "sns.histplot(train_df['MonthlyCharges'], kde=True)\n",
    "plt.xlabel('Monthly Charges')\n",
    "plt.ylabel('Frequency')\n",
    "plt.title('Distribution of Monthly Charges')\n",
    "plt.show()"
   ]
  },
  {
   "cell_type": "raw",
   "metadata": {},
   "source": [
    "The distribution of monthly charges is positively skewed, indicating that a significant number of customers have lower monthly charges. There is a long tail towards higher charges, indicating the presence of some customers with higher monthly charges."
   ]
  },
  {
   "cell_type": "markdown",
   "metadata": {},
   "source": [
    "# Bivariate Analysis"
   ]
  },
  {
   "cell_type": "code",
   "execution_count": 53,
   "metadata": {},
   "outputs": [
    {
     "data": {
      "image/png": "[encoded data removed]",
      "text/plain": [
       "<Figure size 800x600 with 1 Axes>"
      ]
     },
     "metadata": {},
     "output_type": "display_data"
    }
   ],
   "source": [
    "plt.figure(figsize=(8, 6))\n",
    "sns.boxplot(x='Churn', y='MonthlyCharges', data=train_df)\n",
    "plt.xlabel('Churn')\n",
    "plt.ylabel('Monthly Charges')\n",
    "plt.title('Monthly Charges vs. Churn')\n",
    "plt.show()"
   ]
  },
  {
   "cell_type": "raw",
   "metadata": {},
   "source": [
    "There is a slight difference in monthly charges between churned and non-churned customers. Churned customers tend to have higher monthly charges compared to non-churned customers."
   ]
  },
  {
   "cell_type": "code",
   "execution_count": 54,
   "metadata": {},
   "outputs": [
    {
     "data": {
      "image/png": "[encoded data removed]",
      "text/plain": [
       "<Figure size 800x600 with 1 Axes>"
      ]
     },
     "metadata": {},
     "output_type": "display_data"
    }
   ],
   "source": [
    "plt.figure(figsize=(8, 6))\n",
    "sns.countplot(x='InternetService', hue='Churn', data=train_df, palette='viridis')\n",
    "plt.xlabel('Internet Service')\n",
    "plt.ylabel('Count')\n",
    "plt.title('Churn Distribution by Internet Service Type')\n",
    "plt.legend(title='Churn', loc='upper right')\n",
    "plt.show()"
   ]
  },
  {
   "cell_type": "raw",
   "metadata": {},
   "source": [
    "Customers with fiber optic internet service have a higher churn rate compared to those with DSL or no internet service."
   ]
  },
  {
   "cell_type": "code",
   "execution_count": 55,
   "metadata": {},
   "outputs": [
    {
     "data": {
      "image/png": "[encoded data removed]",
      "text/plain": [
       "<Figure size 1200x1000 with 6 Axes>"
      ]
     },
     "metadata": {},
     "output_type": "display_data"
    }
   ],
   "source": [
    "plt.figure(figsize=(12, 10))\n",
    "for i, service in enumerate(services):\n",
    "    plt.subplot(3, 2, i+1)\n",
    "    sns.countplot(x=service, hue='Churn', data=train_df, palette='viridis')\n",
    "    plt.xlabel(service)\n",
    "    plt.ylabel('Count')\n",
    "    plt.legend(title='Churn', loc='upper right')\n",
    "plt.suptitle('Churn Distribution by Online Services')\n",
    "plt.tight_layout()\n",
    "plt.show()"
   ]
  },
  {
   "cell_type": "raw",
   "metadata": {},
   "source": [
    "Customers who do not have online security, online backup, device protection, tech support, and streaming TV/movies are more likely to churn compared to those who have these services."
   ]
  },
  {
   "cell_type": "code",
   "execution_count": 56,
   "metadata": {},
   "outputs": [
    {
     "data": {
      "image/png": "[encoded data removed]",
      "text/plain": [
       "<Figure size 800x600 with 1 Axes>"
      ]
     },
     "metadata": {},
     "output_type": "display_data"
    }
   ],
   "source": [
    "plt.figure(figsize=(8, 6))\n",
    "sns.countplot(x='gender', hue='Churn', data=train_df, palette='viridis')\n",
    "plt.xlabel('Gender')\n",
    "plt.ylabel('Count')\n",
    "plt.title('Churn Distribution by Gender')\n",
    "plt.legend(title='Churn', loc='upper right')\n",
    "plt.show()\n"
   ]
  },
  {
   "cell_type": "raw",
   "metadata": {},
   "source": [
    "Male customers have a higher churn rate compared to their female counterparts."
   ]
  },
  {
   "cell_type": "code",
   "execution_count": 75,
   "metadata": {},
   "outputs": [],
   "source": [
    "def percentage_stacked_plot(columns_to_plot, super_title):\n",
    "    number_of_columns = 2\n",
    "    number_of_rows = math.ceil(len(columns_to_plot) / 2)\n",
    "\n",
    "    # create a figure\n",
    "    fig, axes = plt.subplots(number_of_rows, number_of_columns, figsize=(12, 5 * number_of_rows))\n",
    "    fig.suptitle(super_title, fontsize=22, y=.95)\n",
    "\n",
    "    # loop through each column name to create a subplot\n",
    "    for column, ax in zip(columns_to_plot, axes.flatten()):\n",
    "        # calculate the percentage of observations of the response variable for each group of the independent variable\n",
    "        prop_by_independent = pd.crosstab(train_df[column], train_df['Churn']).apply(lambda x: x / x.sum() * 100,\n",
    "                                                                                     axis=1)\n",
    "\n",
    "        # plot the stacked bar chart using the 'viridis' colormap\n",
    "        prop_by_independent.plot(kind='bar', ax=ax, stacked=True, rot=0, colormap='viridis')\n",
    "\n",
    "        # set the legend in the upper right corner\n",
    "        ax.legend(loc=\"upper right\", bbox_to_anchor=(0.62, 0.5, 0.5, 0.5), title='Churn', fancybox=True)\n",
    "\n",
    "        # set title and labels\n",
    "        ax.set_title('Proportion of observations by ' + column, fontsize=8, loc='left')\n",
    "        ax.tick_params(rotation='auto')\n",
    "\n",
    "        # remove the frame from the plot\n",
    "        spine_names = ('top', 'right', 'bottom', 'left')\n",
    "        for spine_name in spine_names:\n",
    "            ax.spines[spine_name].set_visible(False)\n"
   ]
  },
  {
   "cell_type": "code",
   "execution_count": 76,
   "metadata": {},
   "outputs": [
    {
     "data": {
      "image/png": "[encoded data removed]",
      "text/plain": [
       "<Figure size 1200x1000 with 4 Axes>"
      ]
     },
     "metadata": {},
     "output_type": "display_data"
    }
   ],
   "source": [
    "# demographic column names\n",
    "demographic_columns = ['gender', 'SeniorCitizen', 'Partner', 'Dependents']\n",
    "\n",
    "# stacked plot of demographic columns\n",
    "percentage_stacked_plot(demographic_columns, 'Demographic Information')"
   ]
  }
 ],
 "metadata": {
  "kernelspec": {
   "display_name": "Python 3 (ipykernel)",
   "language": "python",
   "name": "python3"
  },
  "language_info": {
   "codemirror_mode": {
    "name": "ipython",
    "version": 3
   },
   "file_extension": ".py",
   "mimetype": "text/x-python",
   "name": "python",
   "nbconvert_exporter": "python",
   "pygments_lexer": "ipython3",
   "version": "3.9.13"
  }
 },
 "nbformat": 4,
 "nbformat_minor": 2
}
